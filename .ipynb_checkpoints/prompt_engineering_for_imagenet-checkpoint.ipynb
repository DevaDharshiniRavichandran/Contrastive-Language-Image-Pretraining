{
 "cells": [
  {
   "cell_type": "code",
   "execution_count": 1,
   "id": "0523e2f6-c354-4aec-84f9-20ca00966c4d",
   "metadata": {},
   "outputs": [
    {
     "name": "stdout",
     "output_type": "stream",
     "text": [
      "Requirement already satisfied: ftfy in /Users/devadharshiniravichandranlalitha/.pyenv/versions/3.8.10/lib/python3.8/site-packages (6.2.3)\n",
      "Requirement already satisfied: regex in /Users/devadharshiniravichandranlalitha/.pyenv/versions/3.8.10/lib/python3.8/site-packages (2024.7.24)\n",
      "Requirement already satisfied: tqdm in /Users/devadharshiniravichandranlalitha/.pyenv/versions/3.8.10/lib/python3.8/site-packages (4.66.5)\n",
      "Requirement already satisfied: wcwidth<0.3.0,>=0.2.12 in /Users/devadharshiniravichandranlalitha/.pyenv/versions/3.8.10/lib/python3.8/site-packages (from ftfy) (0.2.13)\n",
      "\n",
      "\u001b[1m[\u001b[0m\u001b[34;49mnotice\u001b[0m\u001b[1;39;49m]\u001b[0m\u001b[39;49m A new release of pip is available: \u001b[0m\u001b[31;49m24.0\u001b[0m\u001b[39;49m -> \u001b[0m\u001b[32;49m24.2\u001b[0m\n",
      "\u001b[1m[\u001b[0m\u001b[34;49mnotice\u001b[0m\u001b[1;39;49m]\u001b[0m\u001b[39;49m To update, run: \u001b[0m\u001b[32;49mpip install --upgrade pip\u001b[0m\n",
      "Collecting git+https://github.com/openai/CLIP.git\n",
      "  Cloning https://github.com/openai/CLIP.git to /private/var/folders/8s/fjzsj9lx64q07blyz05ktm380000gn/T/pip-req-build-7hhn_gzf\n",
      "  Running command git clone --filter=blob:none --quiet https://github.com/openai/CLIP.git /private/var/folders/8s/fjzsj9lx64q07blyz05ktm380000gn/T/pip-req-build-7hhn_gzf\n",
      "  Resolved https://github.com/openai/CLIP.git to commit dcba3cb2e2827b402d2701e7e1c7d9fed8a20ef1\n",
      "  Installing build dependencies ... \u001b[?25ldone\n",
      "\u001b[?25h  Getting requirements to build wheel ... \u001b[?25ldone\n",
      "\u001b[?25h  Preparing metadata (pyproject.toml) ... \u001b[?25ldone\n",
      "\u001b[?25hRequirement already satisfied: ftfy in /Users/devadharshiniravichandranlalitha/.pyenv/versions/3.8.10/lib/python3.8/site-packages (from clip==1.0) (6.2.3)\n",
      "Requirement already satisfied: packaging in /Users/devadharshiniravichandranlalitha/.pyenv/versions/3.8.10/lib/python3.8/site-packages (from clip==1.0) (24.0)\n",
      "Requirement already satisfied: regex in /Users/devadharshiniravichandranlalitha/.pyenv/versions/3.8.10/lib/python3.8/site-packages (from clip==1.0) (2024.7.24)\n",
      "Requirement already satisfied: tqdm in /Users/devadharshiniravichandranlalitha/.pyenv/versions/3.8.10/lib/python3.8/site-packages (from clip==1.0) (4.66.5)\n",
      "Requirement already satisfied: torch in /Users/devadharshiniravichandranlalitha/.pyenv/versions/3.8.10/lib/python3.8/site-packages (from clip==1.0) (2.4.0)\n",
      "Requirement already satisfied: torchvision in /Users/devadharshiniravichandranlalitha/.pyenv/versions/3.8.10/lib/python3.8/site-packages (from clip==1.0) (0.19.0)\n",
      "Requirement already satisfied: wcwidth<0.3.0,>=0.2.12 in /Users/devadharshiniravichandranlalitha/.pyenv/versions/3.8.10/lib/python3.8/site-packages (from ftfy->clip==1.0) (0.2.13)\n",
      "Requirement already satisfied: filelock in /Users/devadharshiniravichandranlalitha/.pyenv/versions/3.8.10/lib/python3.8/site-packages (from torch->clip==1.0) (3.15.4)\n",
      "Requirement already satisfied: typing-extensions>=4.8.0 in /Users/devadharshiniravichandranlalitha/.pyenv/versions/3.8.10/lib/python3.8/site-packages (from torch->clip==1.0) (4.11.0)\n",
      "Requirement already satisfied: sympy in /Users/devadharshiniravichandranlalitha/.pyenv/versions/3.8.10/lib/python3.8/site-packages (from torch->clip==1.0) (1.13.2)\n",
      "Requirement already satisfied: networkx in /Users/devadharshiniravichandranlalitha/.pyenv/versions/3.8.10/lib/python3.8/site-packages (from torch->clip==1.0) (3.1)\n",
      "Requirement already satisfied: jinja2 in /Users/devadharshiniravichandranlalitha/.pyenv/versions/3.8.10/lib/python3.8/site-packages (from torch->clip==1.0) (3.1.3)\n",
      "Requirement already satisfied: fsspec in /Users/devadharshiniravichandranlalitha/.pyenv/versions/3.8.10/lib/python3.8/site-packages (from torch->clip==1.0) (2024.6.1)\n",
      "Requirement already satisfied: numpy in /Users/devadharshiniravichandranlalitha/.pyenv/versions/3.8.10/lib/python3.8/site-packages (from torchvision->clip==1.0) (1.24.4)\n",
      "Requirement already satisfied: pillow!=8.3.*,>=5.3.0 in /Users/devadharshiniravichandranlalitha/.pyenv/versions/3.8.10/lib/python3.8/site-packages (from torchvision->clip==1.0) (10.4.0)\n",
      "Requirement already satisfied: MarkupSafe>=2.0 in /Users/devadharshiniravichandranlalitha/.pyenv/versions/3.8.10/lib/python3.8/site-packages (from jinja2->torch->clip==1.0) (2.1.5)\n",
      "Requirement already satisfied: mpmath<1.4,>=1.1.0 in /Users/devadharshiniravichandranlalitha/.pyenv/versions/3.8.10/lib/python3.8/site-packages (from sympy->torch->clip==1.0) (1.3.0)\n",
      "\n",
      "\u001b[1m[\u001b[0m\u001b[34;49mnotice\u001b[0m\u001b[1;39;49m]\u001b[0m\u001b[39;49m A new release of pip is available: \u001b[0m\u001b[31;49m24.0\u001b[0m\u001b[39;49m -> \u001b[0m\u001b[32;49m24.2\u001b[0m\n",
      "\u001b[1m[\u001b[0m\u001b[34;49mnotice\u001b[0m\u001b[1;39;49m]\u001b[0m\u001b[39;49m To update, run: \u001b[0m\u001b[32;49mpip install --upgrade pip\u001b[0m\n"
     ]
    }
   ],
   "source": [
    "! pip install ftfy regex tqdm\n",
    "! pip install git+https://github.com/openai/CLIP.git"
   ]
  },
  {
   "cell_type": "code",
   "execution_count": null,
   "id": "44826718-0cae-4531-a50e-b4a962077a4c",
   "metadata": {},
   "outputs": [],
   "source": [
    "import numpy as np\n",
    "import torch\n",
    "import clip\n",
    "from tqdm.notebook import tqdm\n",
    "from pkg_resources import packaging\n",
    "\n",
    "print(\"Torch version:\", torch.__version__)"
   ]
  },
  {
   "cell_type": "code",
   "execution_count": null,
   "id": "bc253fd4-fd96-4e41-87e7-3527a9b27a10",
   "metadata": {},
   "outputs": [],
   "source": []
  }
 ],
 "metadata": {
  "kernelspec": {
   "display_name": "Python 3 (ipykernel)",
   "language": "python",
   "name": "python3"
  },
  "language_info": {
   "codemirror_mode": {
    "name": "ipython",
    "version": 3
   },
   "file_extension": ".py",
   "mimetype": "text/x-python",
   "name": "python",
   "nbconvert_exporter": "python",
   "pygments_lexer": "ipython3",
   "version": "3.8.10"
  }
 },
 "nbformat": 4,
 "nbformat_minor": 5
}
