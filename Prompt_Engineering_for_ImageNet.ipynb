{
  "cells": [
    {
      "cell_type": "markdown",
      "metadata": {
        "id": "53N4k0pj_9qL"
      },
      "source": [
        "# Preparation for Colab\n",
        "\n",
        "Make sure you're running a GPU runtime; if not, select \"GPU\" as the hardware accelerator in Runtime > Change Runtime Type in the menu. The next cells will install the `clip` package and its dependencies, and check if PyTorch 1.7.1 or later is installed."
      ]
    },
    {
      "cell_type": "code",
      "execution_count": 1,
      "metadata": {
        "colab": {
          "base_uri": "https://localhost:8080/"
        },
        "id": "0BpdJkdBssk9",
        "outputId": "41a4070f-5321-4fc4-bd4d-0b5c1f476d56"
      },
      "outputs": [
        {
          "name": "stderr",
          "output_type": "stream",
          "text": [
            "python(59618) MallocStackLogging: can't turn off malloc stack logging because it was not enabled.\n"
          ]
        },
        {
          "name": "stdout",
          "output_type": "stream",
          "text": [
            "Requirement already satisfied: ftfy in /Users/devadharshiniravichandranlalitha/.pyenv/versions/3.8.10/lib/python3.8/site-packages (6.2.3)\n",
            "Requirement already satisfied: regex in /Users/devadharshiniravichandranlalitha/.pyenv/versions/3.8.10/lib/python3.8/site-packages (2024.7.24)\n",
            "Requirement already satisfied: tqdm in /Users/devadharshiniravichandranlalitha/.pyenv/versions/3.8.10/lib/python3.8/site-packages (4.66.5)\n",
            "Requirement already satisfied: wcwidth<0.3.0,>=0.2.12 in /Users/devadharshiniravichandranlalitha/.pyenv/versions/3.8.10/lib/python3.8/site-packages (from ftfy) (0.2.13)\n",
            "\n",
            "\u001b[1m[\u001b[0m\u001b[34;49mnotice\u001b[0m\u001b[1;39;49m]\u001b[0m\u001b[39;49m A new release of pip is available: \u001b[0m\u001b[31;49m24.0\u001b[0m\u001b[39;49m -> \u001b[0m\u001b[32;49m24.2\u001b[0m\n",
            "\u001b[1m[\u001b[0m\u001b[34;49mnotice\u001b[0m\u001b[1;39;49m]\u001b[0m\u001b[39;49m To update, run: \u001b[0m\u001b[32;49mpip install --upgrade pip\u001b[0m\n"
          ]
        },
        {
          "name": "stderr",
          "output_type": "stream",
          "text": [
            "python(59630) MallocStackLogging: can't turn off malloc stack logging because it was not enabled.\n"
          ]
        },
        {
          "name": "stdout",
          "output_type": "stream",
          "text": [
            "Collecting git+https://github.com/openai/CLIP.git\n",
            "  Cloning https://github.com/openai/CLIP.git to /private/var/folders/8s/fjzsj9lx64q07blyz05ktm380000gn/T/pip-req-build-mg3i0h8d\n",
            "  Running command git clone --filter=blob:none --quiet https://github.com/openai/CLIP.git /private/var/folders/8s/fjzsj9lx64q07blyz05ktm380000gn/T/pip-req-build-mg3i0h8d\n",
            "  Resolved https://github.com/openai/CLIP.git to commit dcba3cb2e2827b402d2701e7e1c7d9fed8a20ef1\n",
            "  Installing build dependencies ... \u001b[?25ldone\n",
            "\u001b[?25h  Getting requirements to build wheel ... \u001b[?25ldone\n",
            "\u001b[?25h  Preparing metadata (pyproject.toml) ... \u001b[?25ldone\n",
            "\u001b[?25hRequirement already satisfied: ftfy in /Users/devadharshiniravichandranlalitha/.pyenv/versions/3.8.10/lib/python3.8/site-packages (from clip==1.0) (6.2.3)\n",
            "Requirement already satisfied: packaging in /Users/devadharshiniravichandranlalitha/.pyenv/versions/3.8.10/lib/python3.8/site-packages (from clip==1.0) (24.0)\n",
            "Requirement already satisfied: regex in /Users/devadharshiniravichandranlalitha/.pyenv/versions/3.8.10/lib/python3.8/site-packages (from clip==1.0) (2024.7.24)\n",
            "Requirement already satisfied: tqdm in /Users/devadharshiniravichandranlalitha/.pyenv/versions/3.8.10/lib/python3.8/site-packages (from clip==1.0) (4.66.5)\n",
            "Requirement already satisfied: torch in /Users/devadharshiniravichandranlalitha/.pyenv/versions/3.8.10/lib/python3.8/site-packages (from clip==1.0) (2.4.0)\n",
            "Requirement already satisfied: torchvision in /Users/devadharshiniravichandranlalitha/.pyenv/versions/3.8.10/lib/python3.8/site-packages (from clip==1.0) (0.19.0)\n",
            "Requirement already satisfied: wcwidth<0.3.0,>=0.2.12 in /Users/devadharshiniravichandranlalitha/.pyenv/versions/3.8.10/lib/python3.8/site-packages (from ftfy->clip==1.0) (0.2.13)\n",
            "Requirement already satisfied: filelock in /Users/devadharshiniravichandranlalitha/.pyenv/versions/3.8.10/lib/python3.8/site-packages (from torch->clip==1.0) (3.15.4)\n",
            "Requirement already satisfied: typing-extensions>=4.8.0 in /Users/devadharshiniravichandranlalitha/.pyenv/versions/3.8.10/lib/python3.8/site-packages (from torch->clip==1.0) (4.11.0)\n",
            "Requirement already satisfied: sympy in /Users/devadharshiniravichandranlalitha/.pyenv/versions/3.8.10/lib/python3.8/site-packages (from torch->clip==1.0) (1.13.2)\n",
            "Requirement already satisfied: networkx in /Users/devadharshiniravichandranlalitha/.pyenv/versions/3.8.10/lib/python3.8/site-packages (from torch->clip==1.0) (3.1)\n",
            "Requirement already satisfied: jinja2 in /Users/devadharshiniravichandranlalitha/.pyenv/versions/3.8.10/lib/python3.8/site-packages (from torch->clip==1.0) (3.1.3)\n",
            "Requirement already satisfied: fsspec in /Users/devadharshiniravichandranlalitha/.pyenv/versions/3.8.10/lib/python3.8/site-packages (from torch->clip==1.0) (2024.6.1)\n",
            "Requirement already satisfied: numpy in /Users/devadharshiniravichandranlalitha/.pyenv/versions/3.8.10/lib/python3.8/site-packages (from torchvision->clip==1.0) (1.24.4)\n",
            "Requirement already satisfied: pillow!=8.3.*,>=5.3.0 in /Users/devadharshiniravichandranlalitha/.pyenv/versions/3.8.10/lib/python3.8/site-packages (from torchvision->clip==1.0) (10.4.0)\n",
            "Requirement already satisfied: MarkupSafe>=2.0 in /Users/devadharshiniravichandranlalitha/.pyenv/versions/3.8.10/lib/python3.8/site-packages (from jinja2->torch->clip==1.0) (2.1.5)\n",
            "Requirement already satisfied: mpmath<1.4,>=1.1.0 in /Users/devadharshiniravichandranlalitha/.pyenv/versions/3.8.10/lib/python3.8/site-packages (from sympy->torch->clip==1.0) (1.3.0)\n",
            "\n",
            "\u001b[1m[\u001b[0m\u001b[34;49mnotice\u001b[0m\u001b[1;39;49m]\u001b[0m\u001b[39;49m A new release of pip is available: \u001b[0m\u001b[31;49m24.0\u001b[0m\u001b[39;49m -> \u001b[0m\u001b[32;49m24.2\u001b[0m\n",
            "\u001b[1m[\u001b[0m\u001b[34;49mnotice\u001b[0m\u001b[1;39;49m]\u001b[0m\u001b[39;49m To update, run: \u001b[0m\u001b[32;49mpip install --upgrade pip\u001b[0m\n"
          ]
        }
      ],
      "source": [
        "! pip install ftfy regex tqdm\n",
        "! pip install git+https://github.com/openai/CLIP.git"
      ]
    },
    {
      "cell_type": "code",
      "execution_count": 5,
      "metadata": {
        "colab": {
          "base_uri": "https://localhost:8080/"
        },
        "id": "C1hkDT38hSaP",
        "outputId": "e10d4f17-8fa6-4b75-a18f-f0c38990b5a3"
      },
      "outputs": [
        {
          "name": "stdout",
          "output_type": "stream",
          "text": [
            "Torch version: 2.4.0\n"
          ]
        }
      ],
      "source": [
        "import numpy as np\n",
        "import torch\n",
        "import clip\n",
        "from tqdm.notebook import tqdm\n",
        "from pkg_resources import packaging\n",
        "\n",
        "print(\"Torch version:\", torch.__version__)\n"
      ]
    },
    {
      "cell_type": "code",
      "execution_count": 34,
      "metadata": {},
      "outputs": [
        {
          "name": "stdout",
          "output_type": "stream",
          "text": [
            "Collecting jupyter_contrib_nbextensions\n",
            "  Downloading jupyter_contrib_nbextensions-0.7.0.tar.gz (23.5 MB)\n",
            "\u001b[2K     \u001b[90m━━━━━━━━━━━━━━━━━━━━━━━━━━━━━━━━━━━━━━━━\u001b[0m \u001b[32m23.5/23.5 MB\u001b[0m \u001b[31m8.5 MB/s\u001b[0m eta \u001b[36m0:00:00\u001b[0m00:01\u001b[0m00:01\u001b[0m\n",
            "\u001b[?25h  Installing build dependencies ... \u001b[?25ldone\n",
            "\u001b[?25h  Getting requirements to build wheel ... \u001b[?25ldone\n",
            "\u001b[?25h  Preparing metadata (pyproject.toml) ... \u001b[?25ldone\n",
            "\u001b[?25hCollecting ipython-genutils (from jupyter_contrib_nbextensions)\n",
            "  Downloading ipython_genutils-0.2.0-py2.py3-none-any.whl.metadata (755 bytes)\n",
            "Collecting jupyter-contrib-core>=0.3.3 (from jupyter_contrib_nbextensions)\n",
            "  Downloading jupyter_contrib_core-0.4.2.tar.gz (17 kB)\n",
            "  Installing build dependencies ... \u001b[?25ldone\n",
            "\u001b[?25h  Getting requirements to build wheel ... \u001b[?25ldone\n",
            "\u001b[?25h  Preparing metadata (pyproject.toml) ... \u001b[?25ldone\n",
            "\u001b[?25hRequirement already satisfied: jupyter-core in /Users/devadharshiniravichandranlalitha/.pyenv/versions/3.8.10/lib/python3.8/site-packages (from jupyter_contrib_nbextensions) (5.7.2)\n",
            "Collecting jupyter-highlight-selected-word>=0.1.1 (from jupyter_contrib_nbextensions)\n",
            "  Downloading jupyter_highlight_selected_word-0.2.0-py2.py3-none-any.whl.metadata (730 bytes)\n",
            "Collecting jupyter-nbextensions-configurator>=0.4.0 (from jupyter_contrib_nbextensions)\n",
            "  Downloading jupyter_nbextensions_configurator-0.6.4-py2.py3-none-any.whl.metadata (1.8 kB)\n",
            "Requirement already satisfied: nbconvert>=6.0 in /Users/devadharshiniravichandranlalitha/.pyenv/versions/3.8.10/lib/python3.8/site-packages (from jupyter_contrib_nbextensions) (7.16.3)\n",
            "Requirement already satisfied: notebook>=6.0 in /Users/devadharshiniravichandranlalitha/.pyenv/versions/3.8.10/lib/python3.8/site-packages (from jupyter_contrib_nbextensions) (7.1.2)\n",
            "Requirement already satisfied: tornado in /Users/devadharshiniravichandranlalitha/.pyenv/versions/3.8.10/lib/python3.8/site-packages (from jupyter_contrib_nbextensions) (6.4)\n",
            "Requirement already satisfied: traitlets>=4.1 in /Users/devadharshiniravichandranlalitha/.pyenv/versions/3.8.10/lib/python3.8/site-packages (from jupyter_contrib_nbextensions) (5.14.2)\n",
            "Collecting lxml (from jupyter_contrib_nbextensions)\n",
            "  Downloading lxml-5.3.0.tar.gz (3.7 MB)\n",
            "\u001b[2K     \u001b[90m━━━━━━━━━━━━━━━━━━━━━━━━━━━━━━━━━━━━━━━━\u001b[0m \u001b[32m3.7/3.7 MB\u001b[0m \u001b[31m10.1 MB/s\u001b[0m eta \u001b[36m0:00:00\u001b[0ma \u001b[36m0:00:01\u001b[0m\n",
            "\u001b[?25h  Installing build dependencies ... \u001b[?25ldone\n",
            "\u001b[?25h  Getting requirements to build wheel ... \u001b[?25ldone\n",
            "\u001b[?25h  Preparing metadata (pyproject.toml) ... \u001b[?25ldone\n",
            "\u001b[?25hRequirement already satisfied: setuptools in /Users/devadharshiniravichandranlalitha/.pyenv/versions/3.8.10/lib/python3.8/site-packages (from jupyter-contrib-core>=0.3.3->jupyter_contrib_nbextensions) (56.0.0)\n",
            "Requirement already satisfied: jupyter-server in /Users/devadharshiniravichandranlalitha/.pyenv/versions/3.8.10/lib/python3.8/site-packages (from jupyter-nbextensions-configurator>=0.4.0->jupyter_contrib_nbextensions) (2.14.0)\n",
            "Requirement already satisfied: pyyaml in /Users/devadharshiniravichandranlalitha/.pyenv/versions/3.8.10/lib/python3.8/site-packages (from jupyter-nbextensions-configurator>=0.4.0->jupyter_contrib_nbextensions) (6.0.1)\n",
            "Requirement already satisfied: beautifulsoup4 in /Users/devadharshiniravichandranlalitha/.pyenv/versions/3.8.10/lib/python3.8/site-packages (from nbconvert>=6.0->jupyter_contrib_nbextensions) (4.12.3)\n",
            "Requirement already satisfied: bleach!=5.0.0 in /Users/devadharshiniravichandranlalitha/.pyenv/versions/3.8.10/lib/python3.8/site-packages (from nbconvert>=6.0->jupyter_contrib_nbextensions) (6.1.0)\n",
            "Requirement already satisfied: defusedxml in /Users/devadharshiniravichandranlalitha/.pyenv/versions/3.8.10/lib/python3.8/site-packages (from nbconvert>=6.0->jupyter_contrib_nbextensions) (0.7.1)\n",
            "Requirement already satisfied: importlib-metadata>=3.6 in /Users/devadharshiniravichandranlalitha/.pyenv/versions/3.8.10/lib/python3.8/site-packages (from nbconvert>=6.0->jupyter_contrib_nbextensions) (7.1.0)\n",
            "Requirement already satisfied: jinja2>=3.0 in /Users/devadharshiniravichandranlalitha/.pyenv/versions/3.8.10/lib/python3.8/site-packages (from nbconvert>=6.0->jupyter_contrib_nbextensions) (3.1.3)\n",
            "Requirement already satisfied: jupyterlab-pygments in /Users/devadharshiniravichandranlalitha/.pyenv/versions/3.8.10/lib/python3.8/site-packages (from nbconvert>=6.0->jupyter_contrib_nbextensions) (0.3.0)\n",
            "Requirement already satisfied: markupsafe>=2.0 in /Users/devadharshiniravichandranlalitha/.pyenv/versions/3.8.10/lib/python3.8/site-packages (from nbconvert>=6.0->jupyter_contrib_nbextensions) (2.1.5)\n",
            "Requirement already satisfied: mistune<4,>=2.0.3 in /Users/devadharshiniravichandranlalitha/.pyenv/versions/3.8.10/lib/python3.8/site-packages (from nbconvert>=6.0->jupyter_contrib_nbextensions) (3.0.2)\n",
            "Requirement already satisfied: nbclient>=0.5.0 in /Users/devadharshiniravichandranlalitha/.pyenv/versions/3.8.10/lib/python3.8/site-packages (from nbconvert>=6.0->jupyter_contrib_nbextensions) (0.10.0)\n",
            "Requirement already satisfied: nbformat>=5.7 in /Users/devadharshiniravichandranlalitha/.pyenv/versions/3.8.10/lib/python3.8/site-packages (from nbconvert>=6.0->jupyter_contrib_nbextensions) (5.10.4)\n",
            "Requirement already satisfied: packaging in /Users/devadharshiniravichandranlalitha/.pyenv/versions/3.8.10/lib/python3.8/site-packages (from nbconvert>=6.0->jupyter_contrib_nbextensions) (24.0)\n",
            "Requirement already satisfied: pandocfilters>=1.4.1 in /Users/devadharshiniravichandranlalitha/.pyenv/versions/3.8.10/lib/python3.8/site-packages (from nbconvert>=6.0->jupyter_contrib_nbextensions) (1.5.1)\n",
            "Requirement already satisfied: pygments>=2.4.1 in /Users/devadharshiniravichandranlalitha/.pyenv/versions/3.8.10/lib/python3.8/site-packages (from nbconvert>=6.0->jupyter_contrib_nbextensions) (2.17.2)\n",
            "Requirement already satisfied: tinycss2 in /Users/devadharshiniravichandranlalitha/.pyenv/versions/3.8.10/lib/python3.8/site-packages (from nbconvert>=6.0->jupyter_contrib_nbextensions) (1.2.1)\n",
            "Requirement already satisfied: platformdirs>=2.5 in /Users/devadharshiniravichandranlalitha/.pyenv/versions/3.8.10/lib/python3.8/site-packages (from jupyter-core->jupyter_contrib_nbextensions) (4.2.0)\n",
            "Requirement already satisfied: jupyterlab-server<3,>=2.22.1 in /Users/devadharshiniravichandranlalitha/.pyenv/versions/3.8.10/lib/python3.8/site-packages (from notebook>=6.0->jupyter_contrib_nbextensions) (2.26.0)\n",
            "Requirement already satisfied: jupyterlab<4.2,>=4.1.1 in /Users/devadharshiniravichandranlalitha/.pyenv/versions/3.8.10/lib/python3.8/site-packages (from notebook>=6.0->jupyter_contrib_nbextensions) (4.1.6)\n",
            "Requirement already satisfied: notebook-shim<0.3,>=0.2 in /Users/devadharshiniravichandranlalitha/.pyenv/versions/3.8.10/lib/python3.8/site-packages (from notebook>=6.0->jupyter_contrib_nbextensions) (0.2.4)\n",
            "Requirement already satisfied: six>=1.9.0 in /Users/devadharshiniravichandranlalitha/.pyenv/versions/3.8.10/lib/python3.8/site-packages (from bleach!=5.0.0->nbconvert>=6.0->jupyter_contrib_nbextensions) (1.16.0)\n",
            "Requirement already satisfied: webencodings in /Users/devadharshiniravichandranlalitha/.pyenv/versions/3.8.10/lib/python3.8/site-packages (from bleach!=5.0.0->nbconvert>=6.0->jupyter_contrib_nbextensions) (0.5.1)\n",
            "Requirement already satisfied: zipp>=0.5 in /Users/devadharshiniravichandranlalitha/.pyenv/versions/3.8.10/lib/python3.8/site-packages (from importlib-metadata>=3.6->nbconvert>=6.0->jupyter_contrib_nbextensions) (3.18.1)\n",
            "Requirement already satisfied: anyio>=3.1.0 in /Users/devadharshiniravichandranlalitha/.pyenv/versions/3.8.10/lib/python3.8/site-packages (from jupyter-server->jupyter-nbextensions-configurator>=0.4.0->jupyter_contrib_nbextensions) (4.3.0)\n",
            "Requirement already satisfied: argon2-cffi>=21.1 in /Users/devadharshiniravichandranlalitha/.pyenv/versions/3.8.10/lib/python3.8/site-packages (from jupyter-server->jupyter-nbextensions-configurator>=0.4.0->jupyter_contrib_nbextensions) (23.1.0)\n",
            "Requirement already satisfied: jupyter-client>=7.4.4 in /Users/devadharshiniravichandranlalitha/.pyenv/versions/3.8.10/lib/python3.8/site-packages (from jupyter-server->jupyter-nbextensions-configurator>=0.4.0->jupyter_contrib_nbextensions) (8.6.1)\n",
            "Requirement already satisfied: jupyter-events>=0.9.0 in /Users/devadharshiniravichandranlalitha/.pyenv/versions/3.8.10/lib/python3.8/site-packages (from jupyter-server->jupyter-nbextensions-configurator>=0.4.0->jupyter_contrib_nbextensions) (0.10.0)\n",
            "Requirement already satisfied: jupyter-server-terminals>=0.4.4 in /Users/devadharshiniravichandranlalitha/.pyenv/versions/3.8.10/lib/python3.8/site-packages (from jupyter-server->jupyter-nbextensions-configurator>=0.4.0->jupyter_contrib_nbextensions) (0.5.3)\n",
            "Requirement already satisfied: overrides>=5.0 in /Users/devadharshiniravichandranlalitha/.pyenv/versions/3.8.10/lib/python3.8/site-packages (from jupyter-server->jupyter-nbextensions-configurator>=0.4.0->jupyter_contrib_nbextensions) (7.7.0)\n",
            "Requirement already satisfied: prometheus-client>=0.9 in /Users/devadharshiniravichandranlalitha/.pyenv/versions/3.8.10/lib/python3.8/site-packages (from jupyter-server->jupyter-nbextensions-configurator>=0.4.0->jupyter_contrib_nbextensions) (0.20.0)\n",
            "Requirement already satisfied: pyzmq>=24 in /Users/devadharshiniravichandranlalitha/.pyenv/versions/3.8.10/lib/python3.8/site-packages (from jupyter-server->jupyter-nbextensions-configurator>=0.4.0->jupyter_contrib_nbextensions) (25.1.2)\n",
            "Requirement already satisfied: send2trash>=1.8.2 in /Users/devadharshiniravichandranlalitha/.pyenv/versions/3.8.10/lib/python3.8/site-packages (from jupyter-server->jupyter-nbextensions-configurator>=0.4.0->jupyter_contrib_nbextensions) (1.8.3)\n",
            "Requirement already satisfied: terminado>=0.8.3 in /Users/devadharshiniravichandranlalitha/.pyenv/versions/3.8.10/lib/python3.8/site-packages (from jupyter-server->jupyter-nbextensions-configurator>=0.4.0->jupyter_contrib_nbextensions) (0.18.1)\n",
            "Requirement already satisfied: websocket-client>=1.7 in /Users/devadharshiniravichandranlalitha/.pyenv/versions/3.8.10/lib/python3.8/site-packages (from jupyter-server->jupyter-nbextensions-configurator>=0.4.0->jupyter_contrib_nbextensions) (1.7.0)\n",
            "Requirement already satisfied: async-lru>=1.0.0 in /Users/devadharshiniravichandranlalitha/.pyenv/versions/3.8.10/lib/python3.8/site-packages (from jupyterlab<4.2,>=4.1.1->notebook>=6.0->jupyter_contrib_nbextensions) (2.0.4)\n",
            "Requirement already satisfied: httpx>=0.25.0 in /Users/devadharshiniravichandranlalitha/.pyenv/versions/3.8.10/lib/python3.8/site-packages (from jupyterlab<4.2,>=4.1.1->notebook>=6.0->jupyter_contrib_nbextensions) (0.27.0)\n",
            "Requirement already satisfied: importlib-resources>=1.4 in /Users/devadharshiniravichandranlalitha/.pyenv/versions/3.8.10/lib/python3.8/site-packages (from jupyterlab<4.2,>=4.1.1->notebook>=6.0->jupyter_contrib_nbextensions) (6.4.0)\n",
            "Requirement already satisfied: ipykernel>=6.5.0 in /Users/devadharshiniravichandranlalitha/.pyenv/versions/3.8.10/lib/python3.8/site-packages (from jupyterlab<4.2,>=4.1.1->notebook>=6.0->jupyter_contrib_nbextensions) (6.29.4)\n",
            "Requirement already satisfied: jupyter-lsp>=2.0.0 in /Users/devadharshiniravichandranlalitha/.pyenv/versions/3.8.10/lib/python3.8/site-packages (from jupyterlab<4.2,>=4.1.1->notebook>=6.0->jupyter_contrib_nbextensions) (2.2.5)\n",
            "Requirement already satisfied: tomli>=1.2.2 in /Users/devadharshiniravichandranlalitha/.pyenv/versions/3.8.10/lib/python3.8/site-packages (from jupyterlab<4.2,>=4.1.1->notebook>=6.0->jupyter_contrib_nbextensions) (2.0.1)\n",
            "Requirement already satisfied: babel>=2.10 in /Users/devadharshiniravichandranlalitha/.pyenv/versions/3.8.10/lib/python3.8/site-packages (from jupyterlab-server<3,>=2.22.1->notebook>=6.0->jupyter_contrib_nbextensions) (2.14.0)\n",
            "Requirement already satisfied: json5>=0.9.0 in /Users/devadharshiniravichandranlalitha/.pyenv/versions/3.8.10/lib/python3.8/site-packages (from jupyterlab-server<3,>=2.22.1->notebook>=6.0->jupyter_contrib_nbextensions) (0.9.25)\n",
            "Requirement already satisfied: jsonschema>=4.18.0 in /Users/devadharshiniravichandranlalitha/.pyenv/versions/3.8.10/lib/python3.8/site-packages (from jupyterlab-server<3,>=2.22.1->notebook>=6.0->jupyter_contrib_nbextensions) (4.21.1)\n",
            "Requirement already satisfied: requests>=2.31 in /Users/devadharshiniravichandranlalitha/.pyenv/versions/3.8.10/lib/python3.8/site-packages (from jupyterlab-server<3,>=2.22.1->notebook>=6.0->jupyter_contrib_nbextensions) (2.31.0)\n",
            "Requirement already satisfied: fastjsonschema>=2.15 in /Users/devadharshiniravichandranlalitha/.pyenv/versions/3.8.10/lib/python3.8/site-packages (from nbformat>=5.7->nbconvert>=6.0->jupyter_contrib_nbextensions) (2.19.1)\n",
            "Requirement already satisfied: soupsieve>1.2 in /Users/devadharshiniravichandranlalitha/.pyenv/versions/3.8.10/lib/python3.8/site-packages (from beautifulsoup4->nbconvert>=6.0->jupyter_contrib_nbextensions) (2.5)\n",
            "Requirement already satisfied: idna>=2.8 in /Users/devadharshiniravichandranlalitha/.pyenv/versions/3.8.10/lib/python3.8/site-packages (from anyio>=3.1.0->jupyter-server->jupyter-nbextensions-configurator>=0.4.0->jupyter_contrib_nbextensions) (3.7)\n",
            "Requirement already satisfied: sniffio>=1.1 in /Users/devadharshiniravichandranlalitha/.pyenv/versions/3.8.10/lib/python3.8/site-packages (from anyio>=3.1.0->jupyter-server->jupyter-nbextensions-configurator>=0.4.0->jupyter_contrib_nbextensions) (1.3.1)\n",
            "Requirement already satisfied: exceptiongroup>=1.0.2 in /Users/devadharshiniravichandranlalitha/.pyenv/versions/3.8.10/lib/python3.8/site-packages (from anyio>=3.1.0->jupyter-server->jupyter-nbextensions-configurator>=0.4.0->jupyter_contrib_nbextensions) (1.2.0)\n",
            "Requirement already satisfied: typing-extensions>=4.1 in /Users/devadharshiniravichandranlalitha/.pyenv/versions/3.8.10/lib/python3.8/site-packages (from anyio>=3.1.0->jupyter-server->jupyter-nbextensions-configurator>=0.4.0->jupyter_contrib_nbextensions) (4.11.0)\n",
            "Requirement already satisfied: argon2-cffi-bindings in /Users/devadharshiniravichandranlalitha/.pyenv/versions/3.8.10/lib/python3.8/site-packages (from argon2-cffi>=21.1->jupyter-server->jupyter-nbextensions-configurator>=0.4.0->jupyter_contrib_nbextensions) (21.2.0)\n",
            "Requirement already satisfied: pytz>=2015.7 in /Users/devadharshiniravichandranlalitha/.pyenv/versions/3.8.10/lib/python3.8/site-packages (from babel>=2.10->jupyterlab-server<3,>=2.22.1->notebook>=6.0->jupyter_contrib_nbextensions) (2024.1)\n",
            "Requirement already satisfied: certifi in /Users/devadharshiniravichandranlalitha/.pyenv/versions/3.8.10/lib/python3.8/site-packages (from httpx>=0.25.0->jupyterlab<4.2,>=4.1.1->notebook>=6.0->jupyter_contrib_nbextensions) (2024.2.2)\n",
            "Requirement already satisfied: httpcore==1.* in /Users/devadharshiniravichandranlalitha/.pyenv/versions/3.8.10/lib/python3.8/site-packages (from httpx>=0.25.0->jupyterlab<4.2,>=4.1.1->notebook>=6.0->jupyter_contrib_nbextensions) (1.0.5)\n",
            "Requirement already satisfied: h11<0.15,>=0.13 in /Users/devadharshiniravichandranlalitha/.pyenv/versions/3.8.10/lib/python3.8/site-packages (from httpcore==1.*->httpx>=0.25.0->jupyterlab<4.2,>=4.1.1->notebook>=6.0->jupyter_contrib_nbextensions) (0.14.0)\n",
            "Requirement already satisfied: appnope in /Users/devadharshiniravichandranlalitha/.pyenv/versions/3.8.10/lib/python3.8/site-packages (from ipykernel>=6.5.0->jupyterlab<4.2,>=4.1.1->notebook>=6.0->jupyter_contrib_nbextensions) (0.1.4)\n",
            "Requirement already satisfied: comm>=0.1.1 in /Users/devadharshiniravichandranlalitha/.pyenv/versions/3.8.10/lib/python3.8/site-packages (from ipykernel>=6.5.0->jupyterlab<4.2,>=4.1.1->notebook>=6.0->jupyter_contrib_nbextensions) (0.2.2)\n",
            "Requirement already satisfied: debugpy>=1.6.5 in /Users/devadharshiniravichandranlalitha/.pyenv/versions/3.8.10/lib/python3.8/site-packages (from ipykernel>=6.5.0->jupyterlab<4.2,>=4.1.1->notebook>=6.0->jupyter_contrib_nbextensions) (1.8.1)\n",
            "Requirement already satisfied: ipython>=7.23.1 in /Users/devadharshiniravichandranlalitha/.pyenv/versions/3.8.10/lib/python3.8/site-packages (from ipykernel>=6.5.0->jupyterlab<4.2,>=4.1.1->notebook>=6.0->jupyter_contrib_nbextensions) (8.12.3)\n",
            "Requirement already satisfied: matplotlib-inline>=0.1 in /Users/devadharshiniravichandranlalitha/.pyenv/versions/3.8.10/lib/python3.8/site-packages (from ipykernel>=6.5.0->jupyterlab<4.2,>=4.1.1->notebook>=6.0->jupyter_contrib_nbextensions) (0.1.6)\n",
            "Requirement already satisfied: nest-asyncio in /Users/devadharshiniravichandranlalitha/.pyenv/versions/3.8.10/lib/python3.8/site-packages (from ipykernel>=6.5.0->jupyterlab<4.2,>=4.1.1->notebook>=6.0->jupyter_contrib_nbextensions) (1.6.0)\n",
            "Requirement already satisfied: psutil in /Users/devadharshiniravichandranlalitha/.pyenv/versions/3.8.10/lib/python3.8/site-packages (from ipykernel>=6.5.0->jupyterlab<4.2,>=4.1.1->notebook>=6.0->jupyter_contrib_nbextensions) (5.9.8)\n",
            "Requirement already satisfied: attrs>=22.2.0 in /Users/devadharshiniravichandranlalitha/.pyenv/versions/3.8.10/lib/python3.8/site-packages (from jsonschema>=4.18.0->jupyterlab-server<3,>=2.22.1->notebook>=6.0->jupyter_contrib_nbextensions) (23.2.0)\n",
            "Requirement already satisfied: jsonschema-specifications>=2023.03.6 in /Users/devadharshiniravichandranlalitha/.pyenv/versions/3.8.10/lib/python3.8/site-packages (from jsonschema>=4.18.0->jupyterlab-server<3,>=2.22.1->notebook>=6.0->jupyter_contrib_nbextensions) (2023.12.1)\n",
            "Requirement already satisfied: pkgutil-resolve-name>=1.3.10 in /Users/devadharshiniravichandranlalitha/.pyenv/versions/3.8.10/lib/python3.8/site-packages (from jsonschema>=4.18.0->jupyterlab-server<3,>=2.22.1->notebook>=6.0->jupyter_contrib_nbextensions) (1.3.10)\n",
            "Requirement already satisfied: referencing>=0.28.4 in /Users/devadharshiniravichandranlalitha/.pyenv/versions/3.8.10/lib/python3.8/site-packages (from jsonschema>=4.18.0->jupyterlab-server<3,>=2.22.1->notebook>=6.0->jupyter_contrib_nbextensions) (0.34.0)\n",
            "Requirement already satisfied: rpds-py>=0.7.1 in /Users/devadharshiniravichandranlalitha/.pyenv/versions/3.8.10/lib/python3.8/site-packages (from jsonschema>=4.18.0->jupyterlab-server<3,>=2.22.1->notebook>=6.0->jupyter_contrib_nbextensions) (0.18.0)\n",
            "Requirement already satisfied: python-dateutil>=2.8.2 in /Users/devadharshiniravichandranlalitha/.pyenv/versions/3.8.10/lib/python3.8/site-packages (from jupyter-client>=7.4.4->jupyter-server->jupyter-nbextensions-configurator>=0.4.0->jupyter_contrib_nbextensions) (2.9.0.post0)\n",
            "Requirement already satisfied: python-json-logger>=2.0.4 in /Users/devadharshiniravichandranlalitha/.pyenv/versions/3.8.10/lib/python3.8/site-packages (from jupyter-events>=0.9.0->jupyter-server->jupyter-nbextensions-configurator>=0.4.0->jupyter_contrib_nbextensions) (2.0.7)\n",
            "Requirement already satisfied: rfc3339-validator in /Users/devadharshiniravichandranlalitha/.pyenv/versions/3.8.10/lib/python3.8/site-packages (from jupyter-events>=0.9.0->jupyter-server->jupyter-nbextensions-configurator>=0.4.0->jupyter_contrib_nbextensions) (0.1.4)\n",
            "Requirement already satisfied: rfc3986-validator>=0.1.1 in /Users/devadharshiniravichandranlalitha/.pyenv/versions/3.8.10/lib/python3.8/site-packages (from jupyter-events>=0.9.0->jupyter-server->jupyter-nbextensions-configurator>=0.4.0->jupyter_contrib_nbextensions) (0.1.1)\n",
            "Requirement already satisfied: charset-normalizer<4,>=2 in /Users/devadharshiniravichandranlalitha/.pyenv/versions/3.8.10/lib/python3.8/site-packages (from requests>=2.31->jupyterlab-server<3,>=2.22.1->notebook>=6.0->jupyter_contrib_nbextensions) (3.3.2)\n",
            "Requirement already satisfied: urllib3<3,>=1.21.1 in /Users/devadharshiniravichandranlalitha/.pyenv/versions/3.8.10/lib/python3.8/site-packages (from requests>=2.31->jupyterlab-server<3,>=2.22.1->notebook>=6.0->jupyter_contrib_nbextensions) (1.26.18)\n",
            "Requirement already satisfied: ptyprocess in /Users/devadharshiniravichandranlalitha/.pyenv/versions/3.8.10/lib/python3.8/site-packages (from terminado>=0.8.3->jupyter-server->jupyter-nbextensions-configurator>=0.4.0->jupyter_contrib_nbextensions) (0.7.0)\n",
            "Requirement already satisfied: backcall in /Users/devadharshiniravichandranlalitha/.pyenv/versions/3.8.10/lib/python3.8/site-packages (from ipython>=7.23.1->ipykernel>=6.5.0->jupyterlab<4.2,>=4.1.1->notebook>=6.0->jupyter_contrib_nbextensions) (0.2.0)\n",
            "Requirement already satisfied: decorator in /Users/devadharshiniravichandranlalitha/.pyenv/versions/3.8.10/lib/python3.8/site-packages (from ipython>=7.23.1->ipykernel>=6.5.0->jupyterlab<4.2,>=4.1.1->notebook>=6.0->jupyter_contrib_nbextensions) (5.1.1)\n",
            "Requirement already satisfied: jedi>=0.16 in /Users/devadharshiniravichandranlalitha/.pyenv/versions/3.8.10/lib/python3.8/site-packages (from ipython>=7.23.1->ipykernel>=6.5.0->jupyterlab<4.2,>=4.1.1->notebook>=6.0->jupyter_contrib_nbextensions) (0.19.1)\n",
            "Requirement already satisfied: pickleshare in /Users/devadharshiniravichandranlalitha/.pyenv/versions/3.8.10/lib/python3.8/site-packages (from ipython>=7.23.1->ipykernel>=6.5.0->jupyterlab<4.2,>=4.1.1->notebook>=6.0->jupyter_contrib_nbextensions) (0.7.5)\n",
            "Requirement already satisfied: prompt-toolkit!=3.0.37,<3.1.0,>=3.0.30 in /Users/devadharshiniravichandranlalitha/.pyenv/versions/3.8.10/lib/python3.8/site-packages (from ipython>=7.23.1->ipykernel>=6.5.0->jupyterlab<4.2,>=4.1.1->notebook>=6.0->jupyter_contrib_nbextensions) (3.0.43)\n",
            "Requirement already satisfied: stack-data in /Users/devadharshiniravichandranlalitha/.pyenv/versions/3.8.10/lib/python3.8/site-packages (from ipython>=7.23.1->ipykernel>=6.5.0->jupyterlab<4.2,>=4.1.1->notebook>=6.0->jupyter_contrib_nbextensions) (0.6.3)\n",
            "Requirement already satisfied: pexpect>4.3 in /Users/devadharshiniravichandranlalitha/.pyenv/versions/3.8.10/lib/python3.8/site-packages (from ipython>=7.23.1->ipykernel>=6.5.0->jupyterlab<4.2,>=4.1.1->notebook>=6.0->jupyter_contrib_nbextensions) (4.9.0)\n",
            "Requirement already satisfied: fqdn in /Users/devadharshiniravichandranlalitha/.pyenv/versions/3.8.10/lib/python3.8/site-packages (from jsonschema[format-nongpl]>=4.18.0->jupyter-events>=0.9.0->jupyter-server->jupyter-nbextensions-configurator>=0.4.0->jupyter_contrib_nbextensions) (1.5.1)\n",
            "Requirement already satisfied: isoduration in /Users/devadharshiniravichandranlalitha/.pyenv/versions/3.8.10/lib/python3.8/site-packages (from jsonschema[format-nongpl]>=4.18.0->jupyter-events>=0.9.0->jupyter-server->jupyter-nbextensions-configurator>=0.4.0->jupyter_contrib_nbextensions) (20.11.0)\n",
            "Requirement already satisfied: jsonpointer>1.13 in /Users/devadharshiniravichandranlalitha/.pyenv/versions/3.8.10/lib/python3.8/site-packages (from jsonschema[format-nongpl]>=4.18.0->jupyter-events>=0.9.0->jupyter-server->jupyter-nbextensions-configurator>=0.4.0->jupyter_contrib_nbextensions) (2.4)\n",
            "Requirement already satisfied: uri-template in /Users/devadharshiniravichandranlalitha/.pyenv/versions/3.8.10/lib/python3.8/site-packages (from jsonschema[format-nongpl]>=4.18.0->jupyter-events>=0.9.0->jupyter-server->jupyter-nbextensions-configurator>=0.4.0->jupyter_contrib_nbextensions) (1.3.0)\n",
            "Requirement already satisfied: webcolors>=1.11 in /Users/devadharshiniravichandranlalitha/.pyenv/versions/3.8.10/lib/python3.8/site-packages (from jsonschema[format-nongpl]>=4.18.0->jupyter-events>=0.9.0->jupyter-server->jupyter-nbextensions-configurator>=0.4.0->jupyter_contrib_nbextensions) (1.13)\n",
            "Requirement already satisfied: cffi>=1.0.1 in /Users/devadharshiniravichandranlalitha/.pyenv/versions/3.8.10/lib/python3.8/site-packages (from argon2-cffi-bindings->argon2-cffi>=21.1->jupyter-server->jupyter-nbextensions-configurator>=0.4.0->jupyter_contrib_nbextensions) (1.16.0)\n",
            "Requirement already satisfied: pycparser in /Users/devadharshiniravichandranlalitha/.pyenv/versions/3.8.10/lib/python3.8/site-packages (from cffi>=1.0.1->argon2-cffi-bindings->argon2-cffi>=21.1->jupyter-server->jupyter-nbextensions-configurator>=0.4.0->jupyter_contrib_nbextensions) (2.22)\n",
            "Requirement already satisfied: parso<0.9.0,>=0.8.3 in /Users/devadharshiniravichandranlalitha/.pyenv/versions/3.8.10/lib/python3.8/site-packages (from jedi>=0.16->ipython>=7.23.1->ipykernel>=6.5.0->jupyterlab<4.2,>=4.1.1->notebook>=6.0->jupyter_contrib_nbextensions) (0.8.4)\n",
            "Requirement already satisfied: wcwidth in /Users/devadharshiniravichandranlalitha/.pyenv/versions/3.8.10/lib/python3.8/site-packages (from prompt-toolkit!=3.0.37,<3.1.0,>=3.0.30->ipython>=7.23.1->ipykernel>=6.5.0->jupyterlab<4.2,>=4.1.1->notebook>=6.0->jupyter_contrib_nbextensions) (0.2.13)\n",
            "Requirement already satisfied: arrow>=0.15.0 in /Users/devadharshiniravichandranlalitha/.pyenv/versions/3.8.10/lib/python3.8/site-packages (from isoduration->jsonschema[format-nongpl]>=4.18.0->jupyter-events>=0.9.0->jupyter-server->jupyter-nbextensions-configurator>=0.4.0->jupyter_contrib_nbextensions) (1.3.0)\n",
            "Requirement already satisfied: executing>=1.2.0 in /Users/devadharshiniravichandranlalitha/.pyenv/versions/3.8.10/lib/python3.8/site-packages (from stack-data->ipython>=7.23.1->ipykernel>=6.5.0->jupyterlab<4.2,>=4.1.1->notebook>=6.0->jupyter_contrib_nbextensions) (2.0.1)\n",
            "Requirement already satisfied: asttokens>=2.1.0 in /Users/devadharshiniravichandranlalitha/.pyenv/versions/3.8.10/lib/python3.8/site-packages (from stack-data->ipython>=7.23.1->ipykernel>=6.5.0->jupyterlab<4.2,>=4.1.1->notebook>=6.0->jupyter_contrib_nbextensions) (2.4.1)\n",
            "Requirement already satisfied: pure-eval in /Users/devadharshiniravichandranlalitha/.pyenv/versions/3.8.10/lib/python3.8/site-packages (from stack-data->ipython>=7.23.1->ipykernel>=6.5.0->jupyterlab<4.2,>=4.1.1->notebook>=6.0->jupyter_contrib_nbextensions) (0.2.2)\n",
            "Requirement already satisfied: types-python-dateutil>=2.8.10 in /Users/devadharshiniravichandranlalitha/.pyenv/versions/3.8.10/lib/python3.8/site-packages (from arrow>=0.15.0->isoduration->jsonschema[format-nongpl]>=4.18.0->jupyter-events>=0.9.0->jupyter-server->jupyter-nbextensions-configurator>=0.4.0->jupyter_contrib_nbextensions) (2.9.0.20240316)\n",
            "Downloading jupyter_highlight_selected_word-0.2.0-py2.py3-none-any.whl (11 kB)\n",
            "Downloading jupyter_nbextensions_configurator-0.6.4-py2.py3-none-any.whl (466 kB)\n",
            "\u001b[2K   \u001b[90m━━━━━━━━━━━━━━━━━━━━━━━━━━━━━━━━━━━━━━━━\u001b[0m \u001b[32m466.9/466.9 kB\u001b[0m \u001b[31m8.0 MB/s\u001b[0m eta \u001b[36m0:00:00\u001b[0mta \u001b[36m0:00:01\u001b[0m\n",
            "\u001b[?25hDownloading ipython_genutils-0.2.0-py2.py3-none-any.whl (26 kB)\n",
            "Building wheels for collected packages: jupyter_contrib_nbextensions, jupyter-contrib-core, lxml\n",
            "  Building wheel for jupyter_contrib_nbextensions (pyproject.toml) ... \u001b[?25ldone\n",
            "\u001b[?25h  Created wheel for jupyter_contrib_nbextensions: filename=jupyter_contrib_nbextensions-0.7.0-py2.py3-none-any.whl size=23428777 sha256=b87ea77563a6baf3aeecb12b1001b90f0cd043fcdae7feab031c71ec714f281e\n",
            "  Stored in directory: /Users/devadharshiniravichandranlalitha/Library/Caches/pip/wheels/1a/60/9f/043697d3cd00df43b23bbf4e722366a2abfa68700b6d8411f4\n",
            "  Building wheel for jupyter-contrib-core (pyproject.toml) ... \u001b[?25ldone\n",
            "\u001b[?25h  Created wheel for jupyter-contrib-core: filename=jupyter_contrib_core-0.4.2-py2.py3-none-any.whl size=17481 sha256=93c25cf8ca22bd1e465956c182f31d00b5afa5ee018310bf1d43ed4aff81f94d\n",
            "  Stored in directory: /Users/devadharshiniravichandranlalitha/Library/Caches/pip/wheels/c5/75/d2/b881eea79157be355b125d974ec85f88d6e6742acd14387872\n",
            "  Building wheel for lxml (pyproject.toml) ... \u001b[?25ldone\n",
            "\u001b[?25h  Created wheel for lxml: filename=lxml-5.3.0-cp38-cp38-macosx_14_0_arm64.whl size=1484822 sha256=e71a18949732feabd461af5794b7b90e38743b7d419fda05c5a9bfa73afe303b\n",
            "  Stored in directory: /Users/devadharshiniravichandranlalitha/Library/Caches/pip/wheels/37/19/50/80ff9642d74365e416a0b370a5784afd3167f4e1182644c30b\n",
            "Successfully built jupyter_contrib_nbextensions jupyter-contrib-core lxml\n",
            "Installing collected packages: jupyter-highlight-selected-word, ipython-genutils, lxml, jupyter-contrib-core, jupyter-nbextensions-configurator, jupyter_contrib_nbextensions\n",
            "Successfully installed ipython-genutils-0.2.0 jupyter-contrib-core-0.4.2 jupyter-highlight-selected-word-0.2.0 jupyter-nbextensions-configurator-0.6.4 jupyter_contrib_nbextensions-0.7.0 lxml-5.3.0\n",
            "\n",
            "\u001b[1m[\u001b[0m\u001b[34;49mnotice\u001b[0m\u001b[1;39;49m]\u001b[0m\u001b[39;49m A new release of pip is available: \u001b[0m\u001b[31;49m24.0\u001b[0m\u001b[39;49m -> \u001b[0m\u001b[32;49m24.2\u001b[0m\n",
            "\u001b[1m[\u001b[0m\u001b[34;49mnotice\u001b[0m\u001b[1;39;49m]\u001b[0m\u001b[39;49m To update, run: \u001b[0m\u001b[32;49mpip install --upgrade pip\u001b[0m\n"
          ]
        }
      ],
      "source": [
        "!pip install jupyter_contrib_nbextensions"
      ]
    },
    {
      "cell_type": "code",
      "execution_count": 35,
      "metadata": {},
      "outputs": [
        {
          "name": "stdout",
          "output_type": "stream",
          "text": [
            "usage: jupyter [-h] [--version] [--config-dir] [--data-dir] [--runtime-dir]\n",
            "               [--paths] [--json] [--debug]\n",
            "               [subcommand]\n",
            "\n",
            "Jupyter: Interactive Computing\n",
            "\n",
            "positional arguments:\n",
            "  subcommand     the subcommand to launch\n",
            "\n",
            "optional arguments:\n",
            "  -h, --help     show this help message and exit\n",
            "  --version      show the versions of core jupyter packages and exit\n",
            "  --config-dir   show Jupyter config dir\n",
            "  --data-dir     show Jupyter data dir\n",
            "  --runtime-dir  show Jupyter runtime dir\n",
            "  --paths        show all Jupyter paths. Add --json for machine-readable\n",
            "                 format.\n",
            "  --json         output paths as machine-readable json\n",
            "  --debug        output debug information about paths\n",
            "\n",
            "Available subcommands: console contrib dejavu events execute kernel kernelspec\n",
            "lab labextension labhub migrate nbconvert nbextensions_configurator notebook\n",
            "run server troubleshoot trust\n",
            "\n",
            "Jupyter command `jupyter-nbextension` not found.\n"
          ]
        }
      ],
      "source": [
        "!jupyter nbextension enable --py widgetsnbextension"
      ]
    },
    {
      "cell_type": "code",
      "execution_count": 6,
      "metadata": {},
      "outputs": [
        {
          "data": {
            "application/vnd.jupyter.widget-view+json": {
              "model_id": "8a032864ba6a4ca48550f31de82f8c4e",
              "version_major": 2,
              "version_minor": 0
            },
            "text/plain": [
              "  0%|          | 0/10 [00:00<?, ?it/s]"
            ]
          },
          "metadata": {},
          "output_type": "display_data"
        }
      ],
      "source": [
        "for i in tqdm(range(10)):\n",
        "    pass"
      ]
    },
    {
      "cell_type": "code",
      "execution_count": 38,
      "metadata": {},
      "outputs": [
        {
          "name": "stdout",
          "output_type": "stream",
          "text": [
            "Requirement already satisfied: ipywidgets in /Users/devadharshiniravichandranlalitha/.pyenv/versions/3.8.10/lib/python3.8/site-packages (8.1.5)\n",
            "Requirement already satisfied: comm>=0.1.3 in /Users/devadharshiniravichandranlalitha/.pyenv/versions/3.8.10/lib/python3.8/site-packages (from ipywidgets) (0.2.2)\n",
            "Requirement already satisfied: ipython>=6.1.0 in /Users/devadharshiniravichandranlalitha/.pyenv/versions/3.8.10/lib/python3.8/site-packages (from ipywidgets) (8.12.3)\n",
            "Requirement already satisfied: traitlets>=4.3.1 in /Users/devadharshiniravichandranlalitha/.pyenv/versions/3.8.10/lib/python3.8/site-packages (from ipywidgets) (5.14.2)\n",
            "Requirement already satisfied: widgetsnbextension~=4.0.12 in /Users/devadharshiniravichandranlalitha/.pyenv/versions/3.8.10/lib/python3.8/site-packages (from ipywidgets) (4.0.13)\n",
            "Requirement already satisfied: jupyterlab-widgets~=3.0.12 in /Users/devadharshiniravichandranlalitha/.pyenv/versions/3.8.10/lib/python3.8/site-packages (from ipywidgets) (3.0.13)\n",
            "Requirement already satisfied: backcall in /Users/devadharshiniravichandranlalitha/.pyenv/versions/3.8.10/lib/python3.8/site-packages (from ipython>=6.1.0->ipywidgets) (0.2.0)\n",
            "Requirement already satisfied: decorator in /Users/devadharshiniravichandranlalitha/.pyenv/versions/3.8.10/lib/python3.8/site-packages (from ipython>=6.1.0->ipywidgets) (5.1.1)\n",
            "Requirement already satisfied: jedi>=0.16 in /Users/devadharshiniravichandranlalitha/.pyenv/versions/3.8.10/lib/python3.8/site-packages (from ipython>=6.1.0->ipywidgets) (0.19.1)\n",
            "Requirement already satisfied: matplotlib-inline in /Users/devadharshiniravichandranlalitha/.pyenv/versions/3.8.10/lib/python3.8/site-packages (from ipython>=6.1.0->ipywidgets) (0.1.6)\n",
            "Requirement already satisfied: pickleshare in /Users/devadharshiniravichandranlalitha/.pyenv/versions/3.8.10/lib/python3.8/site-packages (from ipython>=6.1.0->ipywidgets) (0.7.5)\n",
            "Requirement already satisfied: prompt-toolkit!=3.0.37,<3.1.0,>=3.0.30 in /Users/devadharshiniravichandranlalitha/.pyenv/versions/3.8.10/lib/python3.8/site-packages (from ipython>=6.1.0->ipywidgets) (3.0.43)\n",
            "Requirement already satisfied: pygments>=2.4.0 in /Users/devadharshiniravichandranlalitha/.pyenv/versions/3.8.10/lib/python3.8/site-packages (from ipython>=6.1.0->ipywidgets) (2.17.2)\n",
            "Requirement already satisfied: stack-data in /Users/devadharshiniravichandranlalitha/.pyenv/versions/3.8.10/lib/python3.8/site-packages (from ipython>=6.1.0->ipywidgets) (0.6.3)\n",
            "Requirement already satisfied: typing-extensions in /Users/devadharshiniravichandranlalitha/.pyenv/versions/3.8.10/lib/python3.8/site-packages (from ipython>=6.1.0->ipywidgets) (4.11.0)\n",
            "Requirement already satisfied: pexpect>4.3 in /Users/devadharshiniravichandranlalitha/.pyenv/versions/3.8.10/lib/python3.8/site-packages (from ipython>=6.1.0->ipywidgets) (4.9.0)\n",
            "Requirement already satisfied: appnope in /Users/devadharshiniravichandranlalitha/.pyenv/versions/3.8.10/lib/python3.8/site-packages (from ipython>=6.1.0->ipywidgets) (0.1.4)\n",
            "Requirement already satisfied: parso<0.9.0,>=0.8.3 in /Users/devadharshiniravichandranlalitha/.pyenv/versions/3.8.10/lib/python3.8/site-packages (from jedi>=0.16->ipython>=6.1.0->ipywidgets) (0.8.4)\n",
            "Requirement already satisfied: ptyprocess>=0.5 in /Users/devadharshiniravichandranlalitha/.pyenv/versions/3.8.10/lib/python3.8/site-packages (from pexpect>4.3->ipython>=6.1.0->ipywidgets) (0.7.0)\n",
            "Requirement already satisfied: wcwidth in /Users/devadharshiniravichandranlalitha/.pyenv/versions/3.8.10/lib/python3.8/site-packages (from prompt-toolkit!=3.0.37,<3.1.0,>=3.0.30->ipython>=6.1.0->ipywidgets) (0.2.13)\n",
            "Requirement already satisfied: executing>=1.2.0 in /Users/devadharshiniravichandranlalitha/.pyenv/versions/3.8.10/lib/python3.8/site-packages (from stack-data->ipython>=6.1.0->ipywidgets) (2.0.1)\n",
            "Requirement already satisfied: asttokens>=2.1.0 in /Users/devadharshiniravichandranlalitha/.pyenv/versions/3.8.10/lib/python3.8/site-packages (from stack-data->ipython>=6.1.0->ipywidgets) (2.4.1)\n",
            "Requirement already satisfied: pure-eval in /Users/devadharshiniravichandranlalitha/.pyenv/versions/3.8.10/lib/python3.8/site-packages (from stack-data->ipython>=6.1.0->ipywidgets) (0.2.2)\n",
            "Requirement already satisfied: six>=1.12.0 in /Users/devadharshiniravichandranlalitha/.pyenv/versions/3.8.10/lib/python3.8/site-packages (from asttokens>=2.1.0->stack-data->ipython>=6.1.0->ipywidgets) (1.16.0)\n",
            "\n",
            "\u001b[1m[\u001b[0m\u001b[34;49mnotice\u001b[0m\u001b[1;39;49m]\u001b[0m\u001b[39;49m A new release of pip is available: \u001b[0m\u001b[31;49m24.0\u001b[0m\u001b[39;49m -> \u001b[0m\u001b[32;49m24.2\u001b[0m\n",
            "\u001b[1m[\u001b[0m\u001b[34;49mnotice\u001b[0m\u001b[1;39;49m]\u001b[0m\u001b[39;49m To update, run: \u001b[0m\u001b[32;49mpip install --upgrade pip\u001b[0m\n"
          ]
        }
      ],
      "source": [
        "!pip install ipywidgets --upgrade\n"
      ]
    },
    {
      "cell_type": "markdown",
      "metadata": {
        "id": "eFxgLV5HAEEw"
      },
      "source": [
        "# Loading the model\n",
        "\n",
        "Download and instantiate a CLIP model using the `clip` module that we just installed."
      ]
    },
    {
      "cell_type": "code",
      "execution_count": 7,
      "metadata": {
        "colab": {
          "base_uri": "https://localhost:8080/"
        },
        "id": "uLFS29hnhlY4",
        "outputId": "09abb234-693e-4efb-953f-e1847ba95758"
      },
      "outputs": [
        {
          "data": {
            "text/plain": [
              "['RN50',\n",
              " 'RN101',\n",
              " 'RN50x4',\n",
              " 'RN50x16',\n",
              " 'RN50x64',\n",
              " 'ViT-B/32',\n",
              " 'ViT-B/16',\n",
              " 'ViT-L/14',\n",
              " 'ViT-L/14@336px']"
            ]
          },
          "execution_count": 7,
          "metadata": {},
          "output_type": "execute_result"
        }
      ],
      "source": [
        "clip.available_models()"
      ]
    },
    {
      "cell_type": "code",
      "execution_count": 8,
      "metadata": {
        "colab": {
          "base_uri": "https://localhost:8080/"
        },
        "id": "cboKZocQlSYX",
        "outputId": "240acdd0-ca62-45db-8418-9e4ef73e8aff"
      },
      "outputs": [],
      "source": [
        "model, preprocess = clip.load(\"ViT-B/32\")"
      ]
    },
    {
      "cell_type": "code",
      "execution_count": 9,
      "metadata": {
        "colab": {
          "base_uri": "https://localhost:8080/"
        },
        "id": "IBRVTY9lbGm8",
        "outputId": "785019a1-1f40-45b0-e349-b0d4ec3173bf"
      },
      "outputs": [
        {
          "name": "stdout",
          "output_type": "stream",
          "text": [
            "Model parameters: 151,277,313\n",
            "Input resolution: 224\n",
            "Context length: 77\n",
            "Vocab size: 49408\n"
          ]
        }
      ],
      "source": [
        "input_resolution = model.visual.input_resolution\n",
        "context_length = model.context_length\n",
        "vocab_size = model.vocab_size\n",
        "\n",
        "print(\"Model parameters:\", f\"{np.sum([int(np.prod(p.shape)) for p in model.parameters()]):,}\")\n",
        "print(\"Input resolution:\", input_resolution)\n",
        "print(\"Context length:\", context_length)\n",
        "print(\"Vocab size:\", vocab_size)"
      ]
    },
    {
      "cell_type": "markdown",
      "metadata": {
        "id": "LhO3OtOmF8M4"
      },
      "source": [
        "# Preparing ImageNet labels and prompts\n",
        "\n",
        "The following cell contains the 1,000 labels for the ImageNet dataset, followed by the text templates we'll use as \"prompt engineering\"."
      ]
    },
    {
      "cell_type": "code",
      "execution_count": 10,
      "metadata": {
        "id": "R2HbOZrqa0jF"
      },
      "outputs": [],
      "source": [
        "imagenet_classes = [\"tench\", \"goldfish\", \"great white shark\", \"tiger shark\", \"hammerhead shark\", \"electric ray\", \"stingray\", \"rooster\", \"hen\", \"ostrich\", \"brambling\", \"goldfinch\", \"house finch\", \"junco\", \"indigo bunting\", \"American robin\", \"bulbul\", \"jay\", \"magpie\", \"chickadee\", \"American dipper\", \"kite (bird of prey)\", \"bald eagle\", \"vulture\", \"great grey owl\", \"fire salamander\", \"smooth newt\", \"newt\", \"spotted salamander\", \"axolotl\", \"American bullfrog\", \"tree frog\", \"tailed frog\", \"loggerhead sea turtle\", \"leatherback sea turtle\", \"mud turtle\", \"terrapin\", \"box turtle\", \"banded gecko\", \"green iguana\", \"Carolina anole\", \"desert grassland whiptail lizard\", \"agama\", \"frilled-necked lizard\", \"alligator lizard\", \"Gila monster\", \"European green lizard\", \"chameleon\", \"Komodo dragon\", \"Nile crocodile\", \"American alligator\", \"triceratops\", \"worm snake\", \"ring-necked snake\", \"eastern hog-nosed snake\", \"smooth green snake\", \"kingsnake\", \"garter snake\", \"water snake\", \"vine snake\", \"night snake\", \"boa constrictor\", \"African rock python\", \"Indian cobra\", \"green mamba\", \"sea snake\", \"Saharan horned viper\", \"eastern diamondback rattlesnake\", \"sidewinder rattlesnake\", \"trilobite\", \"harvestman\", \"scorpion\", \"yellow garden spider\", \"barn spider\", \"European garden spider\", \"southern black widow\", \"tarantula\", \"wolf spider\", \"tick\", \"centipede\", \"black grouse\", \"ptarmigan\", \"ruffed grouse\", \"prairie grouse\", \"peafowl\", \"quail\", \"partridge\", \"african grey parrot\", \"macaw\", \"sulphur-crested cockatoo\", \"lorikeet\", \"coucal\", \"bee eater\", \"hornbill\", \"hummingbird\", \"jacamar\", \"toucan\", \"duck\", \"red-breasted merganser\", \"goose\", \"black swan\", \"tusker\", \"echidna\", \"platypus\", \"wallaby\", \"koala\", \"wombat\", \"jellyfish\", \"sea anemone\", \"brain coral\", \"flatworm\", \"nematode\", \"conch\", \"snail\", \"slug\", \"sea slug\", \"chiton\", \"chambered nautilus\", \"Dungeness crab\", \"rock crab\", \"fiddler crab\", \"red king crab\", \"American lobster\", \"spiny lobster\", \"crayfish\", \"hermit crab\", \"isopod\", \"white stork\", \"black stork\", \"spoonbill\", \"flamingo\", \"little blue heron\", \"great egret\", \"bittern bird\", \"crane bird\", \"limpkin\", \"common gallinule\", \"American coot\", \"bustard\", \"ruddy turnstone\", \"dunlin\", \"common redshank\", \"dowitcher\", \"oystercatcher\", \"pelican\", \"king penguin\", \"albatross\", \"grey whale\", \"killer whale\", \"dugong\", \"sea lion\", \"Chihuahua\", \"Japanese Chin\", \"Maltese\", \"Pekingese\", \"Shih Tzu\", \"King Charles Spaniel\", \"Papillon\", \"toy terrier\", \"Rhodesian Ridgeback\", \"Afghan Hound\", \"Basset Hound\", \"Beagle\", \"Bloodhound\", \"Bluetick Coonhound\", \"Black and Tan Coonhound\", \"Treeing Walker Coonhound\", \"English foxhound\", \"Redbone Coonhound\", \"borzoi\", \"Irish Wolfhound\", \"Italian Greyhound\", \"Whippet\", \"Ibizan Hound\", \"Norwegian Elkhound\", \"Otterhound\", \"Saluki\", \"Scottish Deerhound\", \"Weimaraner\", \"Staffordshire Bull Terrier\", \"American Staffordshire Terrier\", \"Bedlington Terrier\", \"Border Terrier\", \"Kerry Blue Terrier\", \"Irish Terrier\", \"Norfolk Terrier\", \"Norwich Terrier\", \"Yorkshire Terrier\", \"Wire Fox Terrier\", \"Lakeland Terrier\", \"Sealyham Terrier\", \"Airedale Terrier\", \"Cairn Terrier\", \"Australian Terrier\", \"Dandie Dinmont Terrier\", \"Boston Terrier\", \"Miniature Schnauzer\", \"Giant Schnauzer\", \"Standard Schnauzer\", \"Scottish Terrier\", \"Tibetan Terrier\", \"Australian Silky Terrier\", \"Soft-coated Wheaten Terrier\", \"West Highland White Terrier\", \"Lhasa Apso\", \"Flat-Coated Retriever\", \"Curly-coated Retriever\", \"Golden Retriever\", \"Labrador Retriever\", \"Chesapeake Bay Retriever\", \"German Shorthaired Pointer\", \"Vizsla\", \"English Setter\", \"Irish Setter\", \"Gordon Setter\", \"Brittany dog\", \"Clumber Spaniel\", \"English Springer Spaniel\", \"Welsh Springer Spaniel\", \"Cocker Spaniel\", \"Sussex Spaniel\", \"Irish Water Spaniel\", \"Kuvasz\", \"Schipperke\", \"Groenendael dog\", \"Malinois\", \"Briard\", \"Australian Kelpie\", \"Komondor\", \"Old English Sheepdog\", \"Shetland Sheepdog\", \"collie\", \"Border Collie\", \"Bouvier des Flandres dog\", \"Rottweiler\", \"German Shepherd Dog\", \"Dobermann\", \"Miniature Pinscher\", \"Greater Swiss Mountain Dog\", \"Bernese Mountain Dog\", \"Appenzeller Sennenhund\", \"Entlebucher Sennenhund\", \"Boxer\", \"Bullmastiff\", \"Tibetan Mastiff\", \"French Bulldog\", \"Great Dane\", \"St. Bernard\", \"husky\", \"Alaskan Malamute\", \"Siberian Husky\", \"Dalmatian\", \"Affenpinscher\", \"Basenji\", \"pug\", \"Leonberger\", \"Newfoundland dog\", \"Great Pyrenees dog\", \"Samoyed\", \"Pomeranian\", \"Chow Chow\", \"Keeshond\", \"brussels griffon\", \"Pembroke Welsh Corgi\", \"Cardigan Welsh Corgi\", \"Toy Poodle\", \"Miniature Poodle\", \"Standard Poodle\", \"Mexican hairless dog (xoloitzcuintli)\", \"grey wolf\", \"Alaskan tundra wolf\", \"red wolf or maned wolf\", \"coyote\", \"dingo\", \"dhole\", \"African wild dog\", \"hyena\", \"red fox\", \"kit fox\", \"Arctic fox\", \"grey fox\", \"tabby cat\", \"tiger cat\", \"Persian cat\", \"Siamese cat\", \"Egyptian Mau\", \"cougar\", \"lynx\", \"leopard\", \"snow leopard\", \"jaguar\", \"lion\", \"tiger\", \"cheetah\", \"brown bear\", \"American black bear\", \"polar bear\", \"sloth bear\", \"mongoose\", \"meerkat\", \"tiger beetle\", \"ladybug\", \"ground beetle\", \"longhorn beetle\", \"leaf beetle\", \"dung beetle\", \"rhinoceros beetle\", \"weevil\", \"fly\", \"bee\", \"ant\", \"grasshopper\", \"cricket insect\", \"stick insect\", \"cockroach\", \"praying mantis\", \"cicada\", \"leafhopper\", \"lacewing\", \"dragonfly\", \"damselfly\", \"red admiral butterfly\", \"ringlet butterfly\", \"monarch butterfly\", \"small white butterfly\", \"sulphur butterfly\", \"gossamer-winged butterfly\", \"starfish\", \"sea urchin\", \"sea cucumber\", \"cottontail rabbit\", \"hare\", \"Angora rabbit\", \"hamster\", \"porcupine\", \"fox squirrel\", \"marmot\", \"beaver\", \"guinea pig\", \"common sorrel horse\", \"zebra\", \"pig\", \"wild boar\", \"warthog\", \"hippopotamus\", \"ox\", \"water buffalo\", \"bison\", \"ram (adult male sheep)\", \"bighorn sheep\", \"Alpine ibex\", \"hartebeest\", \"impala (antelope)\", \"gazelle\", \"arabian camel\", \"llama\", \"weasel\", \"mink\", \"European polecat\", \"black-footed ferret\", \"otter\", \"skunk\", \"badger\", \"armadillo\", \"three-toed sloth\", \"orangutan\", \"gorilla\", \"chimpanzee\", \"gibbon\", \"siamang\", \"guenon\", \"patas monkey\", \"baboon\", \"macaque\", \"langur\", \"black-and-white colobus\", \"proboscis monkey\", \"marmoset\", \"white-headed capuchin\", \"howler monkey\", \"titi monkey\", \"Geoffroy's spider monkey\", \"common squirrel monkey\", \"ring-tailed lemur\", \"indri\", \"Asian elephant\", \"African bush elephant\", \"red panda\", \"giant panda\", \"snoek fish\", \"eel\", \"silver salmon\", \"rock beauty fish\", \"clownfish\", \"sturgeon\", \"gar fish\", \"lionfish\", \"pufferfish\", \"abacus\", \"abaya\", \"academic gown\", \"accordion\", \"acoustic guitar\", \"aircraft carrier\", \"airliner\", \"airship\", \"altar\", \"ambulance\", \"amphibious vehicle\", \"analog clock\", \"apiary\", \"apron\", \"trash can\", \"assault rifle\", \"backpack\", \"bakery\", \"balance beam\", \"balloon\", \"ballpoint pen\", \"Band-Aid\", \"banjo\", \"baluster / handrail\", \"barbell\", \"barber chair\", \"barbershop\", \"barn\", \"barometer\", \"barrel\", \"wheelbarrow\", \"baseball\", \"basketball\", \"bassinet\", \"bassoon\", \"swimming cap\", \"bath towel\", \"bathtub\", \"station wagon\", \"lighthouse\", \"beaker\", \"military hat (bearskin or shako)\", \"beer bottle\", \"beer glass\", \"bell tower\", \"baby bib\", \"tandem bicycle\", \"bikini\", \"ring binder\", \"binoculars\", \"birdhouse\", \"boathouse\", \"bobsleigh\", \"bolo tie\", \"poke bonnet\", \"bookcase\", \"bookstore\", \"bottle cap\", \"hunting bow\", \"bow tie\", \"brass memorial plaque\", \"bra\", \"breakwater\", \"breastplate\", \"broom\", \"bucket\", \"buckle\", \"bulletproof vest\", \"high-speed train\", \"butcher shop\", \"taxicab\", \"cauldron\", \"candle\", \"cannon\", \"canoe\", \"can opener\", \"cardigan\", \"car mirror\", \"carousel\", \"tool kit\", \"cardboard box / carton\", \"car wheel\", \"automated teller machine\", \"cassette\", \"cassette player\", \"castle\", \"catamaran\", \"CD player\", \"cello\", \"mobile phone\", \"chain\", \"chain-link fence\", \"chain mail\", \"chainsaw\", \"storage chest\", \"chiffonier\", \"bell or wind chime\", \"china cabinet\", \"Christmas stocking\", \"church\", \"movie theater\", \"cleaver\", \"cliff dwelling\", \"cloak\", \"clogs\", \"cocktail shaker\", \"coffee mug\", \"coffeemaker\", \"spiral or coil\", \"combination lock\", \"computer keyboard\", \"candy store\", \"container ship\", \"convertible\", \"corkscrew\", \"cornet\", \"cowboy boot\", \"cowboy hat\", \"cradle\", \"construction crane\", \"crash helmet\", \"crate\", \"infant bed\", \"Crock Pot\", \"croquet ball\", \"crutch\", \"cuirass\", \"dam\", \"desk\", \"desktop computer\", \"rotary dial telephone\", \"diaper\", \"digital clock\", \"digital watch\", \"dining table\", \"dishcloth\", \"dishwasher\", \"disc brake\", \"dock\", \"dog sled\", \"dome\", \"doormat\", \"drilling rig\", \"drum\", \"drumstick\", \"dumbbell\", \"Dutch oven\", \"electric fan\", \"electric guitar\", \"electric locomotive\", \"entertainment center\", \"envelope\", \"espresso machine\", \"face powder\", \"feather boa\", \"filing cabinet\", \"fireboat\", \"fire truck\", \"fire screen\", \"flagpole\", \"flute\", \"folding chair\", \"football helmet\", \"forklift\", \"fountain\", \"fountain pen\", \"four-poster bed\", \"freight car\", \"French horn\", \"frying pan\", \"fur coat\", \"garbage truck\", \"gas mask or respirator\", \"gas pump\", \"goblet\", \"go-kart\", \"golf ball\", \"golf cart\", \"gondola\", \"gong\", \"gown\", \"grand piano\", \"greenhouse\", \"radiator grille\", \"grocery store\", \"guillotine\", \"hair clip\", \"hair spray\", \"half-track\", \"hammer\", \"hamper\", \"hair dryer\", \"hand-held computer\", \"handkerchief\", \"hard disk drive\", \"harmonica\", \"harp\", \"combine harvester\", \"hatchet\", \"holster\", \"home theater\", \"honeycomb\", \"hook\", \"hoop skirt\", \"gymnastic horizontal bar\", \"horse-drawn vehicle\", \"hourglass\", \"iPod\", \"clothes iron\", \"carved pumpkin\", \"jeans\", \"jeep\", \"T-shirt\", \"jigsaw puzzle\", \"rickshaw\", \"joystick\", \"kimono\", \"knee pad\", \"knot\", \"lab coat\", \"ladle\", \"lampshade\", \"laptop computer\", \"lawn mower\", \"lens cap\", \"letter opener\", \"library\", \"lifeboat\", \"lighter\", \"limousine\", \"ocean liner\", \"lipstick\", \"slip-on shoe\", \"lotion\", \"music speaker\", \"loupe magnifying glass\", \"sawmill\", \"magnetic compass\", \"messenger bag\", \"mailbox\", \"tights\", \"one-piece bathing suit\", \"manhole cover\", \"maraca\", \"marimba\", \"mask\", \"matchstick\", \"maypole\", \"maze\", \"measuring cup\", \"medicine cabinet\", \"megalith\", \"microphone\", \"microwave oven\", \"military uniform\", \"milk can\", \"minibus\", \"miniskirt\", \"minivan\", \"missile\", \"mitten\", \"mixing bowl\", \"mobile home\", \"ford model t\", \"modem\", \"monastery\", \"monitor\", \"moped\", \"mortar and pestle\", \"graduation cap\", \"mosque\", \"mosquito net\", \"vespa\", \"mountain bike\", \"tent\", \"computer mouse\", \"mousetrap\", \"moving van\", \"muzzle\", \"metal nail\", \"neck brace\", \"necklace\", \"baby pacifier\", \"notebook computer\", \"obelisk\", \"oboe\", \"ocarina\", \"odometer\", \"oil filter\", \"pipe organ\", \"oscilloscope\", \"overskirt\", \"bullock cart\", \"oxygen mask\", \"product packet / packaging\", \"paddle\", \"paddle wheel\", \"padlock\", \"paintbrush\", \"pajamas\", \"palace\", \"pan flute\", \"paper towel\", \"parachute\", \"parallel bars\", \"park bench\", \"parking meter\", \"railroad car\", \"patio\", \"payphone\", \"pedestal\", \"pencil case\", \"pencil sharpener\", \"perfume\", \"Petri dish\", \"photocopier\", \"plectrum\", \"Pickelhaube\", \"picket fence\", \"pickup truck\", \"pier\", \"piggy bank\", \"pill bottle\", \"pillow\", \"ping-pong ball\", \"pinwheel\", \"pirate ship\", \"drink pitcher\", \"block plane\", \"planetarium\", \"plastic bag\", \"plate rack\", \"farm plow\", \"plunger\", \"Polaroid camera\", \"pole\", \"police van\", \"poncho\", \"pool table\", \"soda bottle\", \"plant pot\", \"potter's wheel\", \"power drill\", \"prayer rug\", \"printer\", \"prison\", \"missile\", \"projector\", \"hockey puck\", \"punching bag\", \"purse\", \"quill\", \"quilt\", \"race car\", \"racket\", \"radiator\", \"radio\", \"radio telescope\", \"rain barrel\", \"recreational vehicle\", \"fishing casting reel\", \"reflex camera\", \"refrigerator\", \"remote control\", \"restaurant\", \"revolver\", \"rifle\", \"rocking chair\", \"rotisserie\", \"eraser\", \"rugby ball\", \"ruler measuring stick\", \"sneaker\", \"safe\", \"safety pin\", \"salt shaker\", \"sandal\", \"sarong\", \"saxophone\", \"scabbard\", \"weighing scale\", \"school bus\", \"schooner\", \"scoreboard\", \"CRT monitor\", \"screw\", \"screwdriver\", \"seat belt\", \"sewing machine\", \"shield\", \"shoe store\", \"shoji screen / room divider\", \"shopping basket\", \"shopping cart\", \"shovel\", \"shower cap\", \"shower curtain\", \"ski\", \"balaclava ski mask\", \"sleeping bag\", \"slide rule\", \"sliding door\", \"slot machine\", \"snorkel\", \"snowmobile\", \"snowplow\", \"soap dispenser\", \"soccer ball\", \"sock\", \"solar thermal collector\", \"sombrero\", \"soup bowl\", \"keyboard space bar\", \"space heater\", \"space shuttle\", \"spatula\", \"motorboat\", \"spider web\", \"spindle\", \"sports car\", \"spotlight\", \"stage\", \"steam locomotive\", \"through arch bridge\", \"steel drum\", \"stethoscope\", \"scarf\", \"stone wall\", \"stopwatch\", \"stove\", \"strainer\", \"tram\", \"stretcher\", \"couch\", \"stupa\", \"submarine\", \"suit\", \"sundial\", \"sunglasses\", \"sunglasses\", \"sunscreen\", \"suspension bridge\", \"mop\", \"sweatshirt\", \"swim trunks / shorts\", \"swing\", \"electrical switch\", \"syringe\", \"table lamp\", \"tank\", \"tape player\", \"teapot\", \"teddy bear\", \"television\", \"tennis ball\", \"thatched roof\", \"front curtain\", \"thimble\", \"threshing machine\", \"throne\", \"tile roof\", \"toaster\", \"tobacco shop\", \"toilet seat\", \"torch\", \"totem pole\", \"tow truck\", \"toy store\", \"tractor\", \"semi-trailer truck\", \"tray\", \"trench coat\", \"tricycle\", \"trimaran\", \"tripod\", \"triumphal arch\", \"trolleybus\", \"trombone\", \"hot tub\", \"turnstile\", \"typewriter keyboard\", \"umbrella\", \"unicycle\", \"upright piano\", \"vacuum cleaner\", \"vase\", \"vaulted or arched ceiling\", \"velvet fabric\", \"vending machine\", \"vestment\", \"viaduct\", \"violin\", \"volleyball\", \"waffle iron\", \"wall clock\", \"wallet\", \"wardrobe\", \"military aircraft\", \"sink\", \"washing machine\", \"water bottle\", \"water jug\", \"water tower\", \"whiskey jug\", \"whistle\", \"hair wig\", \"window screen\", \"window shade\", \"Windsor tie\", \"wine bottle\", \"airplane wing\", \"wok\", \"wooden spoon\", \"wool\", \"split-rail fence\", \"shipwreck\", \"sailboat\", \"yurt\", \"website\", \"comic book\", \"crossword\", \"traffic or street sign\", \"traffic light\", \"dust jacket\", \"menu\", \"plate\", \"guacamole\", \"consomme\", \"hot pot\", \"trifle\", \"ice cream\", \"popsicle\", \"baguette\", \"bagel\", \"pretzel\", \"cheeseburger\", \"hot dog\", \"mashed potatoes\", \"cabbage\", \"broccoli\", \"cauliflower\", \"zucchini\", \"spaghetti squash\", \"acorn squash\", \"butternut squash\", \"cucumber\", \"artichoke\", \"bell pepper\", \"cardoon\", \"mushroom\", \"Granny Smith apple\", \"strawberry\", \"orange\", \"lemon\", \"fig\", \"pineapple\", \"banana\", \"jackfruit\", \"cherimoya (custard apple)\", \"pomegranate\", \"hay\", \"carbonara\", \"chocolate syrup\", \"dough\", \"meatloaf\", \"pizza\", \"pot pie\", \"burrito\", \"red wine\", \"espresso\", \"tea cup\", \"eggnog\", \"mountain\", \"bubble\", \"cliff\", \"coral reef\", \"geyser\", \"lakeshore\", \"promontory\", \"sandbar\", \"beach\", \"valley\", \"volcano\", \"baseball player\", \"bridegroom\", \"scuba diver\", \"rapeseed\", \"daisy\", \"yellow lady's slipper\", \"corn\", \"acorn\", \"rose hip\", \"horse chestnut seed\", \"coral fungus\", \"agaric\", \"gyromitra\", \"stinkhorn mushroom\", \"earth star fungus\", \"hen of the woods mushroom\", \"bolete\", \"corn cob\", \"toilet paper\"]"
      ]
    },
    {
      "cell_type": "markdown",
      "metadata": {
        "id": "eMQSCuBta2G6"
      },
      "source": [
        "A subset of these class names are modified from the default ImageNet class names sourced from Anish Athalye's imagenet-simple-labels.\n",
        "\n",
        "These edits were made via trial and error and concentrated on the lowest performing classes according to top_1 and top_5 accuracy on the ImageNet training set for the RN50, RN101, and RN50x4 models. These tweaks improve top_1 by 1.5% on ViT-B/32 over using the default class names. Alec got bored somewhere along the way as gains started to diminish and never finished updating / tweaking the list. He also didn't revisit this with the better performing RN50x16, RN50x64, or any of the ViT models. He thinks it's likely another 0.5% to 1% top_1 could be gained from further work here. It'd be interesting to more rigorously study / understand this.\n",
        "\n",
        "Some examples beyond the crane/crane -> construction crane / bird crane issue mentioned in Section 3.1.4 of the paper include:\n",
        "\n",
        "- CLIP interprets \"nail\" as \"fingernail\" so we changed the label to \"metal nail\".\n",
        "- ImageNet kite class refers to the bird of prey, not the flying toy, so we changed \"kite\" to \"kite (bird of prey)\"\n",
        "- The ImageNet class for red wolf seems to include a lot of mislabeled maned wolfs so we changed \"red wolf\" to \"red wolf or maned wolf\""
      ]
    },
    {
      "cell_type": "code",
      "execution_count": 11,
      "metadata": {
        "colab": {
          "base_uri": "https://localhost:8080/"
        },
        "id": "toGtcd-Ji_MD",
        "outputId": "b6eb0753-2bee-4144-abe3-fbd23f35f555"
      },
      "outputs": [
        {
          "name": "stdout",
          "output_type": "stream",
          "text": [
            "1000 classes, 80 templates\n"
          ]
        }
      ],
      "source": [
        "imagenet_templates = [\n",
        "    'a bad photo of a {}.',\n",
        "    'a photo of many {}.',\n",
        "    'a sculpture of a {}.',\n",
        "    'a photo of the hard to see {}.',\n",
        "    'a low resolution photo of the {}.',\n",
        "    'a rendering of a {}.',\n",
        "    'graffiti of a {}.',\n",
        "    'a bad photo of the {}.',\n",
        "    'a cropped photo of the {}.',\n",
        "    'a tattoo of a {}.',\n",
        "    'the embroidered {}.',\n",
        "    'a photo of a hard to see {}.',\n",
        "    'a bright photo of a {}.',\n",
        "    'a photo of a clean {}.',\n",
        "    'a photo of a dirty {}.',\n",
        "    'a dark photo of the {}.',\n",
        "    'a drawing of a {}.',\n",
        "    'a photo of my {}.',\n",
        "    'the plastic {}.',\n",
        "    'a photo of the cool {}.',\n",
        "    'a close-up photo of a {}.',\n",
        "    'a black and white photo of the {}.',\n",
        "    'a painting of the {}.',\n",
        "    'a painting of a {}.',\n",
        "    'a pixelated photo of the {}.',\n",
        "    'a sculpture of the {}.',\n",
        "    'a bright photo of the {}.',\n",
        "    'a cropped photo of a {}.',\n",
        "    'a plastic {}.',\n",
        "    'a photo of the dirty {}.',\n",
        "    'a jpeg corrupted photo of a {}.',\n",
        "    'a blurry photo of the {}.',\n",
        "    'a photo of the {}.',\n",
        "    'a good photo of the {}.',\n",
        "    'a rendering of the {}.',\n",
        "    'a {} in a video game.',\n",
        "    'a photo of one {}.',\n",
        "    'a doodle of a {}.',\n",
        "    'a close-up photo of the {}.',\n",
        "    'a photo of a {}.',\n",
        "    'the origami {}.',\n",
        "    'the {} in a video game.',\n",
        "    'a sketch of a {}.',\n",
        "    'a doodle of the {}.',\n",
        "    'a origami {}.',\n",
        "    'a low resolution photo of a {}.',\n",
        "    'the toy {}.',\n",
        "    'a rendition of the {}.',\n",
        "    'a photo of the clean {}.',\n",
        "    'a photo of a large {}.',\n",
        "    'a rendition of a {}.',\n",
        "    'a photo of a nice {}.',\n",
        "    'a photo of a weird {}.',\n",
        "    'a blurry photo of a {}.',\n",
        "    'a cartoon {}.',\n",
        "    'art of a {}.',\n",
        "    'a sketch of the {}.',\n",
        "    'a embroidered {}.',\n",
        "    'a pixelated photo of a {}.',\n",
        "    'itap of the {}.',\n",
        "    'a jpeg corrupted photo of the {}.',\n",
        "    'a good photo of a {}.',\n",
        "    'a plushie {}.',\n",
        "    'a photo of the nice {}.',\n",
        "    'a photo of the small {}.',\n",
        "    'a photo of the weird {}.',\n",
        "    'the cartoon {}.',\n",
        "    'art of the {}.',\n",
        "    'a drawing of the {}.',\n",
        "    'a photo of the large {}.',\n",
        "    'a black and white photo of a {}.',\n",
        "    'the plushie {}.',\n",
        "    'a dark photo of a {}.',\n",
        "    'itap of a {}.',\n",
        "    'graffiti of the {}.',\n",
        "    'a toy {}.',\n",
        "    'itap of my {}.',\n",
        "    'a photo of a cool {}.',\n",
        "    'a photo of a small {}.',\n",
        "    'a tattoo of the {}.',\n",
        "]\n",
        "\n",
        "print(f\"{len(imagenet_classes)} classes, {len(imagenet_templates)} templates\")"
      ]
    },
    {
      "cell_type": "markdown",
      "metadata": {
        "id": "aRB5OzgpHwqQ"
      },
      "source": [
        "A similar, intuition-guided trial and error based on the ImageNet training set was used for templates. This list is pretty haphazard and was gradually made / expanded over the course of about a year of the project and was revisited / tweaked every few months. A surprising / weird thing was adding templates intended to help ImageNet-R performance (specifying different possible renditions of an object) improved standard ImageNet accuracy too.\n",
        "\n",
        "After the 80 templates were \"locked\" for the paper, we ran sequential forward selection over the list of 80 templates. The search terminated after ensembling 7 templates and selected them in the order below.\n",
        "\n",
        "1. itap of a {}.\n",
        "2. a bad photo of the {}.\n",
        "3. a origami {}.\n",
        "4. a photo of the large {}.\n",
        "5. a {} in a video game.\n",
        "6. art of the {}.\n",
        "7. a photo of the small {}.\n",
        "\n",
        "Speculating, we think it's interesting to see different scales (large and small), a difficult view (a bad photo), and \"abstract\" versions (origami, video game, art), were all selected for, but we haven't studied this in any detail. This subset performs a bit better than the full 80 ensemble reported in the paper, especially for the smaller models."
      ]
    },
    {
      "cell_type": "markdown",
      "metadata": {
        "id": "4W8ARJVqBJXs"
      },
      "source": [
        "# Loading the Images\n",
        "\n",
        "The ILSVRC2012 datasets are no longer available for download publicly. We instead download the ImageNet-V2 dataset by [Recht et al.](https://arxiv.org/abs/1902.10811).\n",
        "\n",
        "If you have the ImageNet dataset downloaded, you can replace the dataset with the official torchvision loader, e.g.:\n",
        "\n",
        "```python\n",
        "images = torchvision.datasets.ImageNet(\"path/to/imagenet\", split='val', transform=preprocess)\n",
        "```"
      ]
    },
    {
      "cell_type": "code",
      "execution_count": 12,
      "metadata": {
        "colab": {
          "base_uri": "https://localhost:8080/"
        },
        "id": "moHR4UlHKsDc",
        "outputId": "40731297-edc7-4cd0-be75-ed426c8fb005"
      },
      "outputs": [
        {
          "name": "stdout",
          "output_type": "stream",
          "text": [
            "Collecting git+https://github.com/modestyachts/ImageNetV2_pytorch\n",
            "  Cloning https://github.com/modestyachts/ImageNetV2_pytorch to /private/var/folders/8s/fjzsj9lx64q07blyz05ktm380000gn/T/pip-req-build-xeo9rx0g\n",
            "  Running command git clone --filter=blob:none --quiet https://github.com/modestyachts/ImageNetV2_pytorch /private/var/folders/8s/fjzsj9lx64q07blyz05ktm380000gn/T/pip-req-build-xeo9rx0g\n",
            "  Resolved https://github.com/modestyachts/ImageNetV2_pytorch to commit 14d4456c39fe7f02a665544dd9fc37c1a5f8b635\n",
            "  Installing build dependencies ... \u001b[?25ldone\n",
            "\u001b[?25h  Getting requirements to build wheel ... \u001b[?25ldone\n",
            "\u001b[?25h  Preparing metadata (pyproject.toml) ... \u001b[?25ldone\n",
            "\u001b[?25h\n",
            "\u001b[1m[\u001b[0m\u001b[34;49mnotice\u001b[0m\u001b[1;39;49m]\u001b[0m\u001b[39;49m A new release of pip is available: \u001b[0m\u001b[31;49m24.0\u001b[0m\u001b[39;49m -> \u001b[0m\u001b[32;49m24.2\u001b[0m\n",
            "\u001b[1m[\u001b[0m\u001b[34;49mnotice\u001b[0m\u001b[1;39;49m]\u001b[0m\u001b[39;49m To update, run: \u001b[0m\u001b[32;49mpip install --upgrade pip\u001b[0m\n"
          ]
        }
      ],
      "source": [
        "! pip install git+https://github.com/modestyachts/ImageNetV2_pytorch\n",
        "\n",
        "from imagenetv2_pytorch import ImageNetV2Dataset\n",
        "\n",
        "images = ImageNetV2Dataset(transform=preprocess)\n",
        "loader = torch.utils.data.DataLoader(images, batch_size=32, num_workers=2)"
      ]
    },
    {
      "cell_type": "markdown",
      "metadata": {
        "id": "fz6D-F-Wbrtp"
      },
      "source": [
        "# Creating zero-shot classifier weights"
      ]
    },
    {
      "cell_type": "code",
      "execution_count": 13,
      "metadata": {},
      "outputs": [
        {
          "ename": "KeyboardInterrupt",
          "evalue": "",
          "output_type": "error",
          "traceback": [
            "\u001b[0;31m---------------------------------------------------------------------------\u001b[0m",
            "\u001b[0;31mKeyboardInterrupt\u001b[0m                         Traceback (most recent call last)",
            "Cell \u001b[0;32mIn[13], line 27\u001b[0m\n\u001b[1;32m     24\u001b[0m     plt\u001b[38;5;241m.\u001b[39mshow()\n\u001b[1;32m     26\u001b[0m \u001b[38;5;66;03m# Assuming you have the dataset loaded in 'images'\u001b[39;00m\n\u001b[0;32m---> 27\u001b[0m \u001b[43mvisualize_class_distribution\u001b[49m\u001b[43m(\u001b[49m\u001b[43mimages\u001b[49m\u001b[43m)\u001b[49m  \u001b[38;5;66;03m# Uncomment this line to visualize the distribution\u001b[39;00m\n",
            "Cell \u001b[0;32mIn[13], line 8\u001b[0m, in \u001b[0;36mvisualize_class_distribution\u001b[0;34m(dataset)\u001b[0m\n\u001b[1;32m      6\u001b[0m \u001b[38;5;28;01mdef\u001b[39;00m \u001b[38;5;21mvisualize_class_distribution\u001b[39m(dataset):\n\u001b[1;32m      7\u001b[0m     \u001b[38;5;66;03m# Extract all class labels from the dataset\u001b[39;00m\n\u001b[0;32m----> 8\u001b[0m     class_labels \u001b[38;5;241m=\u001b[39m [item[\u001b[38;5;241m1\u001b[39m] \u001b[38;5;28;01mfor\u001b[39;00m item \u001b[38;5;129;01min\u001b[39;00m dataset]  \u001b[38;5;66;03m# Assuming the second item is the class label\u001b[39;00m\n\u001b[1;32m     10\u001b[0m     \u001b[38;5;66;03m# Count the occurrences of each class\u001b[39;00m\n\u001b[1;32m     11\u001b[0m     class_count \u001b[38;5;241m=\u001b[39m Counter(class_labels)\n",
            "Cell \u001b[0;32mIn[13], line 8\u001b[0m, in \u001b[0;36m<listcomp>\u001b[0;34m(.0)\u001b[0m\n\u001b[1;32m      6\u001b[0m \u001b[38;5;28;01mdef\u001b[39;00m \u001b[38;5;21mvisualize_class_distribution\u001b[39m(dataset):\n\u001b[1;32m      7\u001b[0m     \u001b[38;5;66;03m# Extract all class labels from the dataset\u001b[39;00m\n\u001b[0;32m----> 8\u001b[0m     class_labels \u001b[38;5;241m=\u001b[39m [item[\u001b[38;5;241m1\u001b[39m] \u001b[38;5;28;01mfor\u001b[39;00m item \u001b[38;5;129;01min\u001b[39;00m dataset]  \u001b[38;5;66;03m# Assuming the second item is the class label\u001b[39;00m\n\u001b[1;32m     10\u001b[0m     \u001b[38;5;66;03m# Count the occurrences of each class\u001b[39;00m\n\u001b[1;32m     11\u001b[0m     class_count \u001b[38;5;241m=\u001b[39m Counter(class_labels)\n",
            "File \u001b[0;32m~/.pyenv/versions/3.8.10/lib/python3.8/site-packages/imagenetv2_pytorch/ImageNetV2_dataset.py:93\u001b[0m, in \u001b[0;36mImageNetV2Dataset.__getitem__\u001b[0;34m(self, i)\u001b[0m\n\u001b[1;32m     91\u001b[0m img, label \u001b[38;5;241m=\u001b[39m Image\u001b[38;5;241m.\u001b[39mopen(\u001b[38;5;28mself\u001b[39m\u001b[38;5;241m.\u001b[39mfnames[i]), \u001b[38;5;28mint\u001b[39m(\u001b[38;5;28mself\u001b[39m\u001b[38;5;241m.\u001b[39mfnames[i]\u001b[38;5;241m.\u001b[39mparent\u001b[38;5;241m.\u001b[39mname)\n\u001b[1;32m     92\u001b[0m \u001b[38;5;28;01mif\u001b[39;00m \u001b[38;5;28mself\u001b[39m\u001b[38;5;241m.\u001b[39mtransform \u001b[38;5;129;01mis\u001b[39;00m \u001b[38;5;129;01mnot\u001b[39;00m \u001b[38;5;28;01mNone\u001b[39;00m:\n\u001b[0;32m---> 93\u001b[0m     img \u001b[38;5;241m=\u001b[39m \u001b[38;5;28;43mself\u001b[39;49m\u001b[38;5;241;43m.\u001b[39;49m\u001b[43mtransform\u001b[49m\u001b[43m(\u001b[49m\u001b[43mimg\u001b[49m\u001b[43m)\u001b[49m\n\u001b[1;32m     94\u001b[0m \u001b[38;5;28;01mreturn\u001b[39;00m img, label\n",
            "File \u001b[0;32m~/.pyenv/versions/3.8.10/lib/python3.8/site-packages/torchvision/transforms/transforms.py:95\u001b[0m, in \u001b[0;36mCompose.__call__\u001b[0;34m(self, img)\u001b[0m\n\u001b[1;32m     93\u001b[0m \u001b[38;5;28;01mdef\u001b[39;00m \u001b[38;5;21m__call__\u001b[39m(\u001b[38;5;28mself\u001b[39m, img):\n\u001b[1;32m     94\u001b[0m     \u001b[38;5;28;01mfor\u001b[39;00m t \u001b[38;5;129;01min\u001b[39;00m \u001b[38;5;28mself\u001b[39m\u001b[38;5;241m.\u001b[39mtransforms:\n\u001b[0;32m---> 95\u001b[0m         img \u001b[38;5;241m=\u001b[39m \u001b[43mt\u001b[49m\u001b[43m(\u001b[49m\u001b[43mimg\u001b[49m\u001b[43m)\u001b[49m\n\u001b[1;32m     96\u001b[0m     \u001b[38;5;28;01mreturn\u001b[39;00m img\n",
            "File \u001b[0;32m~/.pyenv/versions/3.8.10/lib/python3.8/site-packages/torch/nn/modules/module.py:1553\u001b[0m, in \u001b[0;36mModule._wrapped_call_impl\u001b[0;34m(self, *args, **kwargs)\u001b[0m\n\u001b[1;32m   1551\u001b[0m     \u001b[38;5;28;01mreturn\u001b[39;00m \u001b[38;5;28mself\u001b[39m\u001b[38;5;241m.\u001b[39m_compiled_call_impl(\u001b[38;5;241m*\u001b[39margs, \u001b[38;5;241m*\u001b[39m\u001b[38;5;241m*\u001b[39mkwargs)  \u001b[38;5;66;03m# type: ignore[misc]\u001b[39;00m\n\u001b[1;32m   1552\u001b[0m \u001b[38;5;28;01melse\u001b[39;00m:\n\u001b[0;32m-> 1553\u001b[0m     \u001b[38;5;28;01mreturn\u001b[39;00m \u001b[38;5;28;43mself\u001b[39;49m\u001b[38;5;241;43m.\u001b[39;49m\u001b[43m_call_impl\u001b[49m\u001b[43m(\u001b[49m\u001b[38;5;241;43m*\u001b[39;49m\u001b[43margs\u001b[49m\u001b[43m,\u001b[49m\u001b[43m \u001b[49m\u001b[38;5;241;43m*\u001b[39;49m\u001b[38;5;241;43m*\u001b[39;49m\u001b[43mkwargs\u001b[49m\u001b[43m)\u001b[49m\n",
            "File \u001b[0;32m~/.pyenv/versions/3.8.10/lib/python3.8/site-packages/torch/nn/modules/module.py:1562\u001b[0m, in \u001b[0;36mModule._call_impl\u001b[0;34m(self, *args, **kwargs)\u001b[0m\n\u001b[1;32m   1557\u001b[0m \u001b[38;5;66;03m# If we don't have any hooks, we want to skip the rest of the logic in\u001b[39;00m\n\u001b[1;32m   1558\u001b[0m \u001b[38;5;66;03m# this function, and just call forward.\u001b[39;00m\n\u001b[1;32m   1559\u001b[0m \u001b[38;5;28;01mif\u001b[39;00m \u001b[38;5;129;01mnot\u001b[39;00m (\u001b[38;5;28mself\u001b[39m\u001b[38;5;241m.\u001b[39m_backward_hooks \u001b[38;5;129;01mor\u001b[39;00m \u001b[38;5;28mself\u001b[39m\u001b[38;5;241m.\u001b[39m_backward_pre_hooks \u001b[38;5;129;01mor\u001b[39;00m \u001b[38;5;28mself\u001b[39m\u001b[38;5;241m.\u001b[39m_forward_hooks \u001b[38;5;129;01mor\u001b[39;00m \u001b[38;5;28mself\u001b[39m\u001b[38;5;241m.\u001b[39m_forward_pre_hooks\n\u001b[1;32m   1560\u001b[0m         \u001b[38;5;129;01mor\u001b[39;00m _global_backward_pre_hooks \u001b[38;5;129;01mor\u001b[39;00m _global_backward_hooks\n\u001b[1;32m   1561\u001b[0m         \u001b[38;5;129;01mor\u001b[39;00m _global_forward_hooks \u001b[38;5;129;01mor\u001b[39;00m _global_forward_pre_hooks):\n\u001b[0;32m-> 1562\u001b[0m     \u001b[38;5;28;01mreturn\u001b[39;00m \u001b[43mforward_call\u001b[49m\u001b[43m(\u001b[49m\u001b[38;5;241;43m*\u001b[39;49m\u001b[43margs\u001b[49m\u001b[43m,\u001b[49m\u001b[43m \u001b[49m\u001b[38;5;241;43m*\u001b[39;49m\u001b[38;5;241;43m*\u001b[39;49m\u001b[43mkwargs\u001b[49m\u001b[43m)\u001b[49m\n\u001b[1;32m   1564\u001b[0m \u001b[38;5;28;01mtry\u001b[39;00m:\n\u001b[1;32m   1565\u001b[0m     result \u001b[38;5;241m=\u001b[39m \u001b[38;5;28;01mNone\u001b[39;00m\n",
            "File \u001b[0;32m~/.pyenv/versions/3.8.10/lib/python3.8/site-packages/torchvision/transforms/transforms.py:354\u001b[0m, in \u001b[0;36mResize.forward\u001b[0;34m(self, img)\u001b[0m\n\u001b[1;32m    346\u001b[0m \u001b[38;5;28;01mdef\u001b[39;00m \u001b[38;5;21mforward\u001b[39m(\u001b[38;5;28mself\u001b[39m, img):\n\u001b[1;32m    347\u001b[0m \u001b[38;5;250m    \u001b[39m\u001b[38;5;124;03m\"\"\"\u001b[39;00m\n\u001b[1;32m    348\u001b[0m \u001b[38;5;124;03m    Args:\u001b[39;00m\n\u001b[1;32m    349\u001b[0m \u001b[38;5;124;03m        img (PIL Image or Tensor): Image to be scaled.\u001b[39;00m\n\u001b[0;32m   (...)\u001b[0m\n\u001b[1;32m    352\u001b[0m \u001b[38;5;124;03m        PIL Image or Tensor: Rescaled image.\u001b[39;00m\n\u001b[1;32m    353\u001b[0m \u001b[38;5;124;03m    \"\"\"\u001b[39;00m\n\u001b[0;32m--> 354\u001b[0m     \u001b[38;5;28;01mreturn\u001b[39;00m \u001b[43mF\u001b[49m\u001b[38;5;241;43m.\u001b[39;49m\u001b[43mresize\u001b[49m\u001b[43m(\u001b[49m\u001b[43mimg\u001b[49m\u001b[43m,\u001b[49m\u001b[43m \u001b[49m\u001b[38;5;28;43mself\u001b[39;49m\u001b[38;5;241;43m.\u001b[39;49m\u001b[43msize\u001b[49m\u001b[43m,\u001b[49m\u001b[43m \u001b[49m\u001b[38;5;28;43mself\u001b[39;49m\u001b[38;5;241;43m.\u001b[39;49m\u001b[43minterpolation\u001b[49m\u001b[43m,\u001b[49m\u001b[43m \u001b[49m\u001b[38;5;28;43mself\u001b[39;49m\u001b[38;5;241;43m.\u001b[39;49m\u001b[43mmax_size\u001b[49m\u001b[43m,\u001b[49m\u001b[43m \u001b[49m\u001b[38;5;28;43mself\u001b[39;49m\u001b[38;5;241;43m.\u001b[39;49m\u001b[43mantialias\u001b[49m\u001b[43m)\u001b[49m\n",
            "File \u001b[0;32m~/.pyenv/versions/3.8.10/lib/python3.8/site-packages/torchvision/transforms/functional.py:477\u001b[0m, in \u001b[0;36mresize\u001b[0;34m(img, size, interpolation, max_size, antialias)\u001b[0m\n\u001b[1;32m    475\u001b[0m         warnings\u001b[38;5;241m.\u001b[39mwarn(\u001b[38;5;124m\"\u001b[39m\u001b[38;5;124mAnti-alias option is always applied for PIL Image input. Argument antialias is ignored.\u001b[39m\u001b[38;5;124m\"\u001b[39m)\n\u001b[1;32m    476\u001b[0m     pil_interpolation \u001b[38;5;241m=\u001b[39m pil_modes_mapping[interpolation]\n\u001b[0;32m--> 477\u001b[0m     \u001b[38;5;28;01mreturn\u001b[39;00m \u001b[43mF_pil\u001b[49m\u001b[38;5;241;43m.\u001b[39;49m\u001b[43mresize\u001b[49m\u001b[43m(\u001b[49m\u001b[43mimg\u001b[49m\u001b[43m,\u001b[49m\u001b[43m \u001b[49m\u001b[43msize\u001b[49m\u001b[38;5;241;43m=\u001b[39;49m\u001b[43moutput_size\u001b[49m\u001b[43m,\u001b[49m\u001b[43m \u001b[49m\u001b[43minterpolation\u001b[49m\u001b[38;5;241;43m=\u001b[39;49m\u001b[43mpil_interpolation\u001b[49m\u001b[43m)\u001b[49m\n\u001b[1;32m    479\u001b[0m \u001b[38;5;28;01mreturn\u001b[39;00m F_t\u001b[38;5;241m.\u001b[39mresize(img, size\u001b[38;5;241m=\u001b[39moutput_size, interpolation\u001b[38;5;241m=\u001b[39minterpolation\u001b[38;5;241m.\u001b[39mvalue, antialias\u001b[38;5;241m=\u001b[39mantialias)\n",
            "File \u001b[0;32m~/.pyenv/versions/3.8.10/lib/python3.8/site-packages/torchvision/transforms/_functional_pil.py:250\u001b[0m, in \u001b[0;36mresize\u001b[0;34m(img, size, interpolation)\u001b[0m\n\u001b[1;32m    247\u001b[0m \u001b[38;5;28;01mif\u001b[39;00m \u001b[38;5;129;01mnot\u001b[39;00m (\u001b[38;5;28misinstance\u001b[39m(size, \u001b[38;5;28mlist\u001b[39m) \u001b[38;5;129;01mand\u001b[39;00m \u001b[38;5;28mlen\u001b[39m(size) \u001b[38;5;241m==\u001b[39m \u001b[38;5;241m2\u001b[39m):\n\u001b[1;32m    248\u001b[0m     \u001b[38;5;28;01mraise\u001b[39;00m \u001b[38;5;167;01mTypeError\u001b[39;00m(\u001b[38;5;124mf\u001b[39m\u001b[38;5;124m\"\u001b[39m\u001b[38;5;124mGot inappropriate size arg: \u001b[39m\u001b[38;5;132;01m{\u001b[39;00msize\u001b[38;5;132;01m}\u001b[39;00m\u001b[38;5;124m\"\u001b[39m)\n\u001b[0;32m--> 250\u001b[0m \u001b[38;5;28;01mreturn\u001b[39;00m \u001b[43mimg\u001b[49m\u001b[38;5;241;43m.\u001b[39;49m\u001b[43mresize\u001b[49m\u001b[43m(\u001b[49m\u001b[38;5;28;43mtuple\u001b[39;49m\u001b[43m(\u001b[49m\u001b[43msize\u001b[49m\u001b[43m[\u001b[49m\u001b[43m:\u001b[49m\u001b[43m:\u001b[49m\u001b[38;5;241;43m-\u001b[39;49m\u001b[38;5;241;43m1\u001b[39;49m\u001b[43m]\u001b[49m\u001b[43m)\u001b[49m\u001b[43m,\u001b[49m\u001b[43m \u001b[49m\u001b[43minterpolation\u001b[49m\u001b[43m)\u001b[49m\n",
            "File \u001b[0;32m~/.pyenv/versions/3.8.10/lib/python3.8/site-packages/PIL/Image.py:2293\u001b[0m, in \u001b[0;36mImage.resize\u001b[0;34m(self, size, resample, box, reducing_gap)\u001b[0m\n\u001b[1;32m   2290\u001b[0m     msg \u001b[38;5;241m=\u001b[39m \u001b[38;5;124m\"\u001b[39m\u001b[38;5;124mreducing_gap must be 1.0 or greater\u001b[39m\u001b[38;5;124m\"\u001b[39m\n\u001b[1;32m   2291\u001b[0m     \u001b[38;5;28;01mraise\u001b[39;00m \u001b[38;5;167;01mValueError\u001b[39;00m(msg)\n\u001b[0;32m-> 2293\u001b[0m \u001b[38;5;28;43mself\u001b[39;49m\u001b[38;5;241;43m.\u001b[39;49m\u001b[43mload\u001b[49m\u001b[43m(\u001b[49m\u001b[43m)\u001b[49m\n\u001b[1;32m   2294\u001b[0m \u001b[38;5;28;01mif\u001b[39;00m box \u001b[38;5;129;01mis\u001b[39;00m \u001b[38;5;28;01mNone\u001b[39;00m:\n\u001b[1;32m   2295\u001b[0m     box \u001b[38;5;241m=\u001b[39m (\u001b[38;5;241m0\u001b[39m, \u001b[38;5;241m0\u001b[39m) \u001b[38;5;241m+\u001b[39m \u001b[38;5;28mself\u001b[39m\u001b[38;5;241m.\u001b[39msize\n",
            "File \u001b[0;32m~/.pyenv/versions/3.8.10/lib/python3.8/site-packages/PIL/ImageFile.py:273\u001b[0m, in \u001b[0;36mImageFile.load\u001b[0;34m(self)\u001b[0m\n\u001b[1;32m    271\u001b[0m \u001b[38;5;28;01mwhile\u001b[39;00m \u001b[38;5;28;01mTrue\u001b[39;00m:\n\u001b[1;32m    272\u001b[0m     \u001b[38;5;28;01mtry\u001b[39;00m:\n\u001b[0;32m--> 273\u001b[0m         s \u001b[38;5;241m=\u001b[39m \u001b[43mread\u001b[49m\u001b[43m(\u001b[49m\u001b[38;5;28;43mself\u001b[39;49m\u001b[38;5;241;43m.\u001b[39;49m\u001b[43mdecodermaxblock\u001b[49m\u001b[43m)\u001b[49m\n\u001b[1;32m    274\u001b[0m     \u001b[38;5;28;01mexcept\u001b[39;00m (\u001b[38;5;167;01mIndexError\u001b[39;00m, struct\u001b[38;5;241m.\u001b[39merror) \u001b[38;5;28;01mas\u001b[39;00m e:\n\u001b[1;32m    275\u001b[0m         \u001b[38;5;66;03m# truncated png/gif\u001b[39;00m\n\u001b[1;32m    276\u001b[0m         \u001b[38;5;28;01mif\u001b[39;00m LOAD_TRUNCATED_IMAGES:\n",
            "File \u001b[0;32m~/.pyenv/versions/3.8.10/lib/python3.8/site-packages/PIL/JpegImagePlugin.py:390\u001b[0m, in \u001b[0;36mJpegImageFile.load_read\u001b[0;34m(self, read_bytes)\u001b[0m\n\u001b[1;32m    384\u001b[0m \u001b[38;5;28;01mdef\u001b[39;00m \u001b[38;5;21mload_read\u001b[39m(\u001b[38;5;28mself\u001b[39m, read_bytes: \u001b[38;5;28mint\u001b[39m) \u001b[38;5;241m-\u001b[39m\u001b[38;5;241m>\u001b[39m \u001b[38;5;28mbytes\u001b[39m:\n\u001b[1;32m    385\u001b[0m \u001b[38;5;250m    \u001b[39m\u001b[38;5;124;03m\"\"\"\u001b[39;00m\n\u001b[1;32m    386\u001b[0m \u001b[38;5;124;03m    internal: read more image data\u001b[39;00m\n\u001b[1;32m    387\u001b[0m \u001b[38;5;124;03m    For premature EOF and LOAD_TRUNCATED_IMAGES adds EOI marker\u001b[39;00m\n\u001b[1;32m    388\u001b[0m \u001b[38;5;124;03m    so libjpeg can finish decoding\u001b[39;00m\n\u001b[1;32m    389\u001b[0m \u001b[38;5;124;03m    \"\"\"\u001b[39;00m\n\u001b[0;32m--> 390\u001b[0m     s \u001b[38;5;241m=\u001b[39m \u001b[38;5;28;43mself\u001b[39;49m\u001b[38;5;241;43m.\u001b[39;49m\u001b[43mfp\u001b[49m\u001b[38;5;241;43m.\u001b[39;49m\u001b[43mread\u001b[49m\u001b[43m(\u001b[49m\u001b[43mread_bytes\u001b[49m\u001b[43m)\u001b[49m\n\u001b[1;32m    392\u001b[0m     \u001b[38;5;28;01mif\u001b[39;00m \u001b[38;5;129;01mnot\u001b[39;00m s \u001b[38;5;129;01mand\u001b[39;00m ImageFile\u001b[38;5;241m.\u001b[39mLOAD_TRUNCATED_IMAGES \u001b[38;5;129;01mand\u001b[39;00m \u001b[38;5;129;01mnot\u001b[39;00m \u001b[38;5;28mhasattr\u001b[39m(\u001b[38;5;28mself\u001b[39m, \u001b[38;5;124m\"\u001b[39m\u001b[38;5;124m_ended\u001b[39m\u001b[38;5;124m\"\u001b[39m):\n\u001b[1;32m    393\u001b[0m         \u001b[38;5;66;03m# Premature EOF.\u001b[39;00m\n\u001b[1;32m    394\u001b[0m         \u001b[38;5;66;03m# Pretend file is finished adding EOI marker\u001b[39;00m\n\u001b[1;32m    395\u001b[0m         \u001b[38;5;28mself\u001b[39m\u001b[38;5;241m.\u001b[39m_ended \u001b[38;5;241m=\u001b[39m \u001b[38;5;28;01mTrue\u001b[39;00m\n",
            "\u001b[0;31mKeyboardInterrupt\u001b[0m: "
          ]
        }
      ],
      "source": [
        "import matplotlib.pyplot as plt\n",
        "import numpy as np\n",
        "from collections import Counter\n",
        "\n",
        "# Function to visualize the class distribution\n",
        "def visualize_class_distribution(dataset):\n",
        "    # Extract all class labels from the dataset\n",
        "    class_labels = [item[1] for item in dataset]  # Assuming the second item is the class label\n",
        "    \n",
        "    # Count the occurrences of each class\n",
        "    class_count = Counter(class_labels)\n",
        "    \n",
        "    # Sort by class label\n",
        "    classes = list(class_count.keys())\n",
        "    class_counts = list(class_count.values())\n",
        "    \n",
        "    # Plotting the class distribution\n",
        "    plt.figure(figsize=(10, 6))\n",
        "    plt.bar(classes, class_counts, color='blue')\n",
        "    plt.xlabel('Class Labels')\n",
        "    plt.ylabel('Number of Samples')\n",
        "    plt.title('Class Distribution in ImageNetV2 Dataset')\n",
        "    plt.xticks(rotation=90)\n",
        "    plt.show()\n",
        "\n",
        "# Assuming you have the dataset loaded in 'images'\n",
        "visualize_class_distribution(images)  # Uncomment this line to visualize the distribution\n"
      ]
    },
    {
      "cell_type": "code",
      "execution_count": 14,
      "metadata": {
        "colab": {
          "base_uri": "https://localhost:8080/",
          "height": 67,
          "referenced_widgets": [
            "66a1639713ae441d8a9b873381f9d774",
            "610b775178c645e2b4663b77cc0c67b6",
            "412dd15f0d8542f5ab2730f8616fb582",
            "5e6315f36b4e4eeea5c6294b024e0c97",
            "085d5388abda4202bfa66d0c088452f8",
            "f75124b64aa147c693c67a78f8e3a231",
            "6e5676a054874243b55fc6d120a07d01",
            "dc6d1416c01a4047935ee15c3fd2eb1c"
          ]
        },
        "id": "sRqDoz1Gbsii",
        "outputId": "312b8ebf-3961-4903-d8cb-3b7a94cc97b6"
      },
      "outputs": [
        {
          "data": {
            "application/vnd.jupyter.widget-view+json": {
              "model_id": "13bc69133d284d87935a9f79a8ba0e44",
              "version_major": 2,
              "version_minor": 0
            },
            "text/plain": [
              "  0%|          | 0/1000 [00:00<?, ?it/s]"
            ]
          },
          "metadata": {},
          "output_type": "display_data"
        }
      ],
      "source": [
        "# !pip install jupyter\n",
        "def zeroshot_classifier(classnames, templates):\n",
        "    with torch.no_grad():\n",
        "        zeroshot_weights = []\n",
        "        for classname in tqdm(classnames):\n",
        "            texts = [template.format(classname) for template in templates] #format with class\n",
        "            texts = clip.tokenize(texts)#.cuda() #tokenize\n",
        "            class_embeddings = model.encode_text(texts) #embed with text encoder\n",
        "            class_embeddings /= class_embeddings.norm(dim=-1, keepdim=True)\n",
        "            class_embedding = class_embeddings.mean(dim=0)\n",
        "            class_embedding /= class_embedding.norm()\n",
        "            zeroshot_weights.append(class_embedding)\n",
        "        zeroshot_weights = torch.stack(zeroshot_weights, dim=1)#.cuda()\n",
        "    return zeroshot_weights\n",
        "\n",
        "\n",
        "zeroshot_weights = zeroshot_classifier(imagenet_classes, imagenet_templates)"
      ]
    },
    {
      "cell_type": "markdown",
      "metadata": {
        "id": "1fZo7hG8iJP5"
      },
      "source": [
        "# Zero-shot prediction"
      ]
    },
    {
      "cell_type": "code",
      "execution_count": 15,
      "metadata": {
        "id": "j4kPSZoShQxN"
      },
      "outputs": [],
      "source": [
        "def accuracy(output, target, topk=(1,)):\n",
        "    pred = output.topk(max(topk), 1, True, True)[1].t()\n",
        "    correct = pred.eq(target.view(1, -1).expand_as(pred))\n",
        "    return [float(correct[:k].reshape(-1).float().sum(0, keepdim=True).cpu().numpy()) for k in topk]"
      ]
    },
    {
      "cell_type": "code",
      "execution_count": 16,
      "metadata": {
        "colab": {
          "base_uri": "https://localhost:8080/",
          "height": 102,
          "referenced_widgets": [
            "84f80a7f3e764346969a347b0f71b24e",
            "392656f01b2945f3bd7903783ed8cc96",
            "8e47a435519b4ce090879b4be2f61f99",
            "41b1ed6b0a9745c1a595377670b15ff4",
            "179b8ae1eb7f4a828f953e889b141725",
            "d8708e8414fd44f4abd6590c9b57996f",
            "800e30f5b4f24475a2b0046da0703631",
            "8764308b948745f1a677332fd21fcaf0"
          ]
        },
        "id": "wKJ7YsdlkDXo",
        "outputId": "ab824854-38e4-4d37-ad40-2a7ce3c5fd43"
      },
      "outputs": [
        {
          "data": {
            "application/vnd.jupyter.widget-view+json": {
              "model_id": "c602137d602245d19b7c328335d5c14e",
              "version_major": 2,
              "version_minor": 0
            },
            "text/plain": [
              "  0%|          | 0/313 [00:00<?, ?it/s]"
            ]
          },
          "metadata": {},
          "output_type": "display_data"
        },
        {
          "name": "stdout",
          "output_type": "stream",
          "text": [
            "Top-1 accuracy: 55.95\n",
            "Top-5 accuracy: 83.41\n"
          ]
        }
      ],
      "source": [
        "with torch.no_grad():\n",
        "    top1, top5, n = 0., 0., 0.\n",
        "    for i, (images, target) in enumerate(tqdm(loader)):\n",
        "        #images = images.cuda()\n",
        "        #target = target.cuda()\n",
        "        \n",
        "        # predict\n",
        "        image_features = model.encode_image(images)\n",
        "        image_features /= image_features.norm(dim=-1, keepdim=True)\n",
        "        logits = 100. * image_features @ zeroshot_weights\n",
        "\n",
        "        # measure accuracy\n",
        "        acc1, acc5 = accuracy(logits, target, topk=(1, 5))\n",
        "        top1 += acc1\n",
        "        top5 += acc5\n",
        "        n += images.size(0)\n",
        "\n",
        "top1 = (top1 / n) * 100\n",
        "top5 = (top5 / n) * 100 \n",
        "\n",
        "print(f\"Top-1 accuracy: {top1:.2f}\")\n",
        "print(f\"Top-5 accuracy: {top5:.2f}\")"
      ]
    }
  ],
  "metadata": {
    "accelerator": "GPU",
    "colab": {
      "collapsed_sections": [],
      "name": "Prompt Engineering for ImageNet.ipynb",
      "provenance": []
    },
    "kernelspec": {
      "display_name": "Python 3",
      "name": "python3"
    },
    "language_info": {
      "codemirror_mode": {
        "name": "ipython",
        "version": 3
      },
      "file_extension": ".py",
      "mimetype": "text/x-python",
      "name": "python",
      "nbconvert_exporter": "python",
      "pygments_lexer": "ipython3",
      "version": "3.8.10"
    },
    "widgets": {
      "application/vnd.jupyter.widget-state+json": {
        "085d5388abda4202bfa66d0c088452f8": {
          "model_module": "@jupyter-widgets/controls",
          "model_name": "ProgressStyleModel",
          "state": {
            "_model_module": "@jupyter-widgets/controls",
            "_model_module_version": "1.5.0",
            "_model_name": "ProgressStyleModel",
            "_view_count": null,
            "_view_module": "@jupyter-widgets/base",
            "_view_module_version": "1.2.0",
            "_view_name": "StyleView",
            "bar_color": null,
            "description_width": "initial"
          }
        },
        "179b8ae1eb7f4a828f953e889b141725": {
          "model_module": "@jupyter-widgets/controls",
          "model_name": "ProgressStyleModel",
          "state": {
            "_model_module": "@jupyter-widgets/controls",
            "_model_module_version": "1.5.0",
            "_model_name": "ProgressStyleModel",
            "_view_count": null,
            "_view_module": "@jupyter-widgets/base",
            "_view_module_version": "1.2.0",
            "_view_name": "StyleView",
            "bar_color": null,
            "description_width": "initial"
          }
        },
        "392656f01b2945f3bd7903783ed8cc96": {
          "model_module": "@jupyter-widgets/base",
          "model_name": "LayoutModel",
          "state": {
            "_model_module": "@jupyter-widgets/base",
            "_model_module_version": "1.2.0",
            "_model_name": "LayoutModel",
            "_view_count": null,
            "_view_module": "@jupyter-widgets/base",
            "_view_module_version": "1.2.0",
            "_view_name": "LayoutView",
            "align_content": null,
            "align_items": null,
            "align_self": null,
            "border": null,
            "bottom": null,
            "display": null,
            "flex": null,
            "flex_flow": null,
            "grid_area": null,
            "grid_auto_columns": null,
            "grid_auto_flow": null,
            "grid_auto_rows": null,
            "grid_column": null,
            "grid_gap": null,
            "grid_row": null,
            "grid_template_areas": null,
            "grid_template_columns": null,
            "grid_template_rows": null,
            "height": null,
            "justify_content": null,
            "justify_items": null,
            "left": null,
            "margin": null,
            "max_height": null,
            "max_width": null,
            "min_height": null,
            "min_width": null,
            "object_fit": null,
            "object_position": null,
            "order": null,
            "overflow": null,
            "overflow_x": null,
            "overflow_y": null,
            "padding": null,
            "right": null,
            "top": null,
            "visibility": null,
            "width": null
          }
        },
        "412dd15f0d8542f5ab2730f8616fb582": {
          "model_module": "@jupyter-widgets/controls",
          "model_name": "FloatProgressModel",
          "state": {
            "_dom_classes": [],
            "_model_module": "@jupyter-widgets/controls",
            "_model_module_version": "1.5.0",
            "_model_name": "FloatProgressModel",
            "_view_count": null,
            "_view_module": "@jupyter-widgets/controls",
            "_view_module_version": "1.5.0",
            "_view_name": "ProgressView",
            "bar_style": "success",
            "description": "100%",
            "description_tooltip": null,
            "layout": "IPY_MODEL_f75124b64aa147c693c67a78f8e3a231",
            "max": 1000,
            "min": 0,
            "orientation": "horizontal",
            "style": "IPY_MODEL_085d5388abda4202bfa66d0c088452f8",
            "value": 1000
          }
        },
        "41b1ed6b0a9745c1a595377670b15ff4": {
          "model_module": "@jupyter-widgets/controls",
          "model_name": "HTMLModel",
          "state": {
            "_dom_classes": [],
            "_model_module": "@jupyter-widgets/controls",
            "_model_module_version": "1.5.0",
            "_model_name": "HTMLModel",
            "_view_count": null,
            "_view_module": "@jupyter-widgets/controls",
            "_view_module_version": "1.5.0",
            "_view_name": "HTMLView",
            "description": "",
            "description_tooltip": null,
            "layout": "IPY_MODEL_8764308b948745f1a677332fd21fcaf0",
            "placeholder": "​",
            "style": "IPY_MODEL_800e30f5b4f24475a2b0046da0703631",
            "value": " 313/313 [02:31&lt;00:00,  2.07it/s]"
          }
        },
        "5e6315f36b4e4eeea5c6294b024e0c97": {
          "model_module": "@jupyter-widgets/controls",
          "model_name": "HTMLModel",
          "state": {
            "_dom_classes": [],
            "_model_module": "@jupyter-widgets/controls",
            "_model_module_version": "1.5.0",
            "_model_name": "HTMLModel",
            "_view_count": null,
            "_view_module": "@jupyter-widgets/controls",
            "_view_module_version": "1.5.0",
            "_view_name": "HTMLView",
            "description": "",
            "description_tooltip": null,
            "layout": "IPY_MODEL_dc6d1416c01a4047935ee15c3fd2eb1c",
            "placeholder": "​",
            "style": "IPY_MODEL_6e5676a054874243b55fc6d120a07d01",
            "value": " 1000/1000 [16:51&lt;00:00,  1.01s/it]"
          }
        },
        "610b775178c645e2b4663b77cc0c67b6": {
          "model_module": "@jupyter-widgets/base",
          "model_name": "LayoutModel",
          "state": {
            "_model_module": "@jupyter-widgets/base",
            "_model_module_version": "1.2.0",
            "_model_name": "LayoutModel",
            "_view_count": null,
            "_view_module": "@jupyter-widgets/base",
            "_view_module_version": "1.2.0",
            "_view_name": "LayoutView",
            "align_content": null,
            "align_items": null,
            "align_self": null,
            "border": null,
            "bottom": null,
            "display": null,
            "flex": null,
            "flex_flow": null,
            "grid_area": null,
            "grid_auto_columns": null,
            "grid_auto_flow": null,
            "grid_auto_rows": null,
            "grid_column": null,
            "grid_gap": null,
            "grid_row": null,
            "grid_template_areas": null,
            "grid_template_columns": null,
            "grid_template_rows": null,
            "height": null,
            "justify_content": null,
            "justify_items": null,
            "left": null,
            "margin": null,
            "max_height": null,
            "max_width": null,
            "min_height": null,
            "min_width": null,
            "object_fit": null,
            "object_position": null,
            "order": null,
            "overflow": null,
            "overflow_x": null,
            "overflow_y": null,
            "padding": null,
            "right": null,
            "top": null,
            "visibility": null,
            "width": null
          }
        },
        "66a1639713ae441d8a9b873381f9d774": {
          "model_module": "@jupyter-widgets/controls",
          "model_name": "HBoxModel",
          "state": {
            "_dom_classes": [],
            "_model_module": "@jupyter-widgets/controls",
            "_model_module_version": "1.5.0",
            "_model_name": "HBoxModel",
            "_view_count": null,
            "_view_module": "@jupyter-widgets/controls",
            "_view_module_version": "1.5.0",
            "_view_name": "HBoxView",
            "box_style": "",
            "children": [
              "IPY_MODEL_412dd15f0d8542f5ab2730f8616fb582",
              "IPY_MODEL_5e6315f36b4e4eeea5c6294b024e0c97"
            ],
            "layout": "IPY_MODEL_610b775178c645e2b4663b77cc0c67b6"
          }
        },
        "6e5676a054874243b55fc6d120a07d01": {
          "model_module": "@jupyter-widgets/controls",
          "model_name": "DescriptionStyleModel",
          "state": {
            "_model_module": "@jupyter-widgets/controls",
            "_model_module_version": "1.5.0",
            "_model_name": "DescriptionStyleModel",
            "_view_count": null,
            "_view_module": "@jupyter-widgets/base",
            "_view_module_version": "1.2.0",
            "_view_name": "StyleView",
            "description_width": ""
          }
        },
        "800e30f5b4f24475a2b0046da0703631": {
          "model_module": "@jupyter-widgets/controls",
          "model_name": "DescriptionStyleModel",
          "state": {
            "_model_module": "@jupyter-widgets/controls",
            "_model_module_version": "1.5.0",
            "_model_name": "DescriptionStyleModel",
            "_view_count": null,
            "_view_module": "@jupyter-widgets/base",
            "_view_module_version": "1.2.0",
            "_view_name": "StyleView",
            "description_width": ""
          }
        },
        "84f80a7f3e764346969a347b0f71b24e": {
          "model_module": "@jupyter-widgets/controls",
          "model_name": "HBoxModel",
          "state": {
            "_dom_classes": [],
            "_model_module": "@jupyter-widgets/controls",
            "_model_module_version": "1.5.0",
            "_model_name": "HBoxModel",
            "_view_count": null,
            "_view_module": "@jupyter-widgets/controls",
            "_view_module_version": "1.5.0",
            "_view_name": "HBoxView",
            "box_style": "",
            "children": [
              "IPY_MODEL_8e47a435519b4ce090879b4be2f61f99",
              "IPY_MODEL_41b1ed6b0a9745c1a595377670b15ff4"
            ],
            "layout": "IPY_MODEL_392656f01b2945f3bd7903783ed8cc96"
          }
        },
        "8764308b948745f1a677332fd21fcaf0": {
          "model_module": "@jupyter-widgets/base",
          "model_name": "LayoutModel",
          "state": {
            "_model_module": "@jupyter-widgets/base",
            "_model_module_version": "1.2.0",
            "_model_name": "LayoutModel",
            "_view_count": null,
            "_view_module": "@jupyter-widgets/base",
            "_view_module_version": "1.2.0",
            "_view_name": "LayoutView",
            "align_content": null,
            "align_items": null,
            "align_self": null,
            "border": null,
            "bottom": null,
            "display": null,
            "flex": null,
            "flex_flow": null,
            "grid_area": null,
            "grid_auto_columns": null,
            "grid_auto_flow": null,
            "grid_auto_rows": null,
            "grid_column": null,
            "grid_gap": null,
            "grid_row": null,
            "grid_template_areas": null,
            "grid_template_columns": null,
            "grid_template_rows": null,
            "height": null,
            "justify_content": null,
            "justify_items": null,
            "left": null,
            "margin": null,
            "max_height": null,
            "max_width": null,
            "min_height": null,
            "min_width": null,
            "object_fit": null,
            "object_position": null,
            "order": null,
            "overflow": null,
            "overflow_x": null,
            "overflow_y": null,
            "padding": null,
            "right": null,
            "top": null,
            "visibility": null,
            "width": null
          }
        },
        "8e47a435519b4ce090879b4be2f61f99": {
          "model_module": "@jupyter-widgets/controls",
          "model_name": "FloatProgressModel",
          "state": {
            "_dom_classes": [],
            "_model_module": "@jupyter-widgets/controls",
            "_model_module_version": "1.5.0",
            "_model_name": "FloatProgressModel",
            "_view_count": null,
            "_view_module": "@jupyter-widgets/controls",
            "_view_module_version": "1.5.0",
            "_view_name": "ProgressView",
            "bar_style": "success",
            "description": "100%",
            "description_tooltip": null,
            "layout": "IPY_MODEL_d8708e8414fd44f4abd6590c9b57996f",
            "max": 313,
            "min": 0,
            "orientation": "horizontal",
            "style": "IPY_MODEL_179b8ae1eb7f4a828f953e889b141725",
            "value": 313
          }
        },
        "d8708e8414fd44f4abd6590c9b57996f": {
          "model_module": "@jupyter-widgets/base",
          "model_name": "LayoutModel",
          "state": {
            "_model_module": "@jupyter-widgets/base",
            "_model_module_version": "1.2.0",
            "_model_name": "LayoutModel",
            "_view_count": null,
            "_view_module": "@jupyter-widgets/base",
            "_view_module_version": "1.2.0",
            "_view_name": "LayoutView",
            "align_content": null,
            "align_items": null,
            "align_self": null,
            "border": null,
            "bottom": null,
            "display": null,
            "flex": null,
            "flex_flow": null,
            "grid_area": null,
            "grid_auto_columns": null,
            "grid_auto_flow": null,
            "grid_auto_rows": null,
            "grid_column": null,
            "grid_gap": null,
            "grid_row": null,
            "grid_template_areas": null,
            "grid_template_columns": null,
            "grid_template_rows": null,
            "height": null,
            "justify_content": null,
            "justify_items": null,
            "left": null,
            "margin": null,
            "max_height": null,
            "max_width": null,
            "min_height": null,
            "min_width": null,
            "object_fit": null,
            "object_position": null,
            "order": null,
            "overflow": null,
            "overflow_x": null,
            "overflow_y": null,
            "padding": null,
            "right": null,
            "top": null,
            "visibility": null,
            "width": null
          }
        },
        "dc6d1416c01a4047935ee15c3fd2eb1c": {
          "model_module": "@jupyter-widgets/base",
          "model_name": "LayoutModel",
          "state": {
            "_model_module": "@jupyter-widgets/base",
            "_model_module_version": "1.2.0",
            "_model_name": "LayoutModel",
            "_view_count": null,
            "_view_module": "@jupyter-widgets/base",
            "_view_module_version": "1.2.0",
            "_view_name": "LayoutView",
            "align_content": null,
            "align_items": null,
            "align_self": null,
            "border": null,
            "bottom": null,
            "display": null,
            "flex": null,
            "flex_flow": null,
            "grid_area": null,
            "grid_auto_columns": null,
            "grid_auto_flow": null,
            "grid_auto_rows": null,
            "grid_column": null,
            "grid_gap": null,
            "grid_row": null,
            "grid_template_areas": null,
            "grid_template_columns": null,
            "grid_template_rows": null,
            "height": null,
            "justify_content": null,
            "justify_items": null,
            "left": null,
            "margin": null,
            "max_height": null,
            "max_width": null,
            "min_height": null,
            "min_width": null,
            "object_fit": null,
            "object_position": null,
            "order": null,
            "overflow": null,
            "overflow_x": null,
            "overflow_y": null,
            "padding": null,
            "right": null,
            "top": null,
            "visibility": null,
            "width": null
          }
        },
        "f75124b64aa147c693c67a78f8e3a231": {
          "model_module": "@jupyter-widgets/base",
          "model_name": "LayoutModel",
          "state": {
            "_model_module": "@jupyter-widgets/base",
            "_model_module_version": "1.2.0",
            "_model_name": "LayoutModel",
            "_view_count": null,
            "_view_module": "@jupyter-widgets/base",
            "_view_module_version": "1.2.0",
            "_view_name": "LayoutView",
            "align_content": null,
            "align_items": null,
            "align_self": null,
            "border": null,
            "bottom": null,
            "display": null,
            "flex": null,
            "flex_flow": null,
            "grid_area": null,
            "grid_auto_columns": null,
            "grid_auto_flow": null,
            "grid_auto_rows": null,
            "grid_column": null,
            "grid_gap": null,
            "grid_row": null,
            "grid_template_areas": null,
            "grid_template_columns": null,
            "grid_template_rows": null,
            "height": null,
            "justify_content": null,
            "justify_items": null,
            "left": null,
            "margin": null,
            "max_height": null,
            "max_width": null,
            "min_height": null,
            "min_width": null,
            "object_fit": null,
            "object_position": null,
            "order": null,
            "overflow": null,
            "overflow_x": null,
            "overflow_y": null,
            "padding": null,
            "right": null,
            "top": null,
            "visibility": null,
            "width": null
          }
        }
      }
    }
  },
  "nbformat": 4,
  "nbformat_minor": 0
}
